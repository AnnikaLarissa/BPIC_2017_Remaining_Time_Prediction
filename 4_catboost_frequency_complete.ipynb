{
 "cells": [
  {
   "cell_type": "markdown",
   "id": "9297e90a-5772-4ca9-b81e-76298835db84",
   "metadata": {},
   "source": [
    "# Catboost predictor - Frequency encoded\n",
    "Implemented version of the catboost model predictor model with one-hot encoding"
   ]
  },
  {
   "cell_type": "code",
   "execution_count": 11,
   "id": "8064661c-0da3-4482-961f-1f1480d0bb55",
   "metadata": {},
   "outputs": [],
   "source": [
    "# import basic libraries\n",
    "import pandas as pd\n",
    "\n",
    "# import machine learning libraries\n",
    "from sklearn.metrics import mean_squared_error\n",
    "from sklearn.metrics import r2_score\n",
    "\n",
    "#import catboost\n",
    "from catboost import CatBoostRegressor"
   ]
  },
  {
   "cell_type": "code",
   "execution_count": 12,
   "id": "f13b1819-826e-4766-81ba-e1138589d5c4",
   "metadata": {},
   "outputs": [
    {
     "data": {
      "text/html": [
       "<div>\n",
       "<style scoped>\n",
       "    .dataframe tbody tr th:only-of-type {\n",
       "        vertical-align: middle;\n",
       "    }\n",
       "\n",
       "    .dataframe tbody tr th {\n",
       "        vertical-align: top;\n",
       "    }\n",
       "\n",
       "    .dataframe thead th {\n",
       "        text-align: right;\n",
       "    }\n",
       "</style>\n",
       "<table border=\"1\" class=\"dataframe\">\n",
       "  <thead>\n",
       "    <tr style=\"text-align: right;\">\n",
       "      <th></th>\n",
       "      <th>Unnamed: 0</th>\n",
       "      <th>EventID</th>\n",
       "      <th>time:timestamp</th>\n",
       "      <th>case:concept:name</th>\n",
       "      <th>case:RequestedAmount</th>\n",
       "      <th>FirstWithdrawalAmount</th>\n",
       "      <th>NumberOfTerms</th>\n",
       "      <th>MonthlyCost</th>\n",
       "      <th>Selected</th>\n",
       "      <th>CreditScore</th>\n",
       "      <th>...</th>\n",
       "      <th>EventOrigin_Workflow</th>\n",
       "      <th>lifecycle:transition_ate_abort</th>\n",
       "      <th>lifecycle:transition_complete</th>\n",
       "      <th>lifecycle:transition_resume</th>\n",
       "      <th>lifecycle:transition_schedule</th>\n",
       "      <th>lifecycle:transition_start</th>\n",
       "      <th>lifecycle:transition_suspend</th>\n",
       "      <th>lifecycle:transition_withdraw</th>\n",
       "      <th>case:ApplicationType_Limit raise</th>\n",
       "      <th>case:ApplicationType_New credit</th>\n",
       "    </tr>\n",
       "  </thead>\n",
       "  <tbody>\n",
       "    <tr>\n",
       "      <th>0</th>\n",
       "      <td>1093289</td>\n",
       "      <td>Application_1000386745</td>\n",
       "      <td>2016-11-25 14:31:09.852000+00:00</td>\n",
       "      <td>Application_1000386745</td>\n",
       "      <td>5000.0</td>\n",
       "      <td>NaN</td>\n",
       "      <td>NaN</td>\n",
       "      <td>NaN</td>\n",
       "      <td>NaN</td>\n",
       "      <td>NaN</td>\n",
       "      <td>...</td>\n",
       "      <td>0</td>\n",
       "      <td>0</td>\n",
       "      <td>1</td>\n",
       "      <td>0</td>\n",
       "      <td>0</td>\n",
       "      <td>0</td>\n",
       "      <td>0</td>\n",
       "      <td>0</td>\n",
       "      <td>0</td>\n",
       "      <td>1</td>\n",
       "    </tr>\n",
       "    <tr>\n",
       "      <th>1</th>\n",
       "      <td>1093290</td>\n",
       "      <td>ApplState_508603983</td>\n",
       "      <td>2016-11-25 14:31:11.088000+00:00</td>\n",
       "      <td>Application_1000386745</td>\n",
       "      <td>5000.0</td>\n",
       "      <td>NaN</td>\n",
       "      <td>NaN</td>\n",
       "      <td>NaN</td>\n",
       "      <td>NaN</td>\n",
       "      <td>NaN</td>\n",
       "      <td>...</td>\n",
       "      <td>0</td>\n",
       "      <td>0</td>\n",
       "      <td>1</td>\n",
       "      <td>0</td>\n",
       "      <td>0</td>\n",
       "      <td>0</td>\n",
       "      <td>0</td>\n",
       "      <td>0</td>\n",
       "      <td>0</td>\n",
       "      <td>1</td>\n",
       "    </tr>\n",
       "    <tr>\n",
       "      <th>2</th>\n",
       "      <td>1093291</td>\n",
       "      <td>Workitem_1662375286</td>\n",
       "      <td>2016-11-25 14:31:11.309000+00:00</td>\n",
       "      <td>Application_1000386745</td>\n",
       "      <td>5000.0</td>\n",
       "      <td>NaN</td>\n",
       "      <td>NaN</td>\n",
       "      <td>NaN</td>\n",
       "      <td>NaN</td>\n",
       "      <td>NaN</td>\n",
       "      <td>...</td>\n",
       "      <td>1</td>\n",
       "      <td>0</td>\n",
       "      <td>0</td>\n",
       "      <td>0</td>\n",
       "      <td>1</td>\n",
       "      <td>0</td>\n",
       "      <td>0</td>\n",
       "      <td>0</td>\n",
       "      <td>0</td>\n",
       "      <td>1</td>\n",
       "    </tr>\n",
       "  </tbody>\n",
       "</table>\n",
       "<p>3 rows × 219 columns</p>\n",
       "</div>"
      ],
      "text/plain": [
       "   Unnamed: 0                 EventID                    time:timestamp  \\\n",
       "0     1093289  Application_1000386745  2016-11-25 14:31:09.852000+00:00   \n",
       "1     1093290     ApplState_508603983  2016-11-25 14:31:11.088000+00:00   \n",
       "2     1093291     Workitem_1662375286  2016-11-25 14:31:11.309000+00:00   \n",
       "\n",
       "        case:concept:name  case:RequestedAmount  FirstWithdrawalAmount  \\\n",
       "0  Application_1000386745                5000.0                    NaN   \n",
       "1  Application_1000386745                5000.0                    NaN   \n",
       "2  Application_1000386745                5000.0                    NaN   \n",
       "\n",
       "   NumberOfTerms  MonthlyCost Selected  CreditScore  ...  \\\n",
       "0            NaN          NaN      NaN          NaN  ...   \n",
       "1            NaN          NaN      NaN          NaN  ...   \n",
       "2            NaN          NaN      NaN          NaN  ...   \n",
       "\n",
       "   EventOrigin_Workflow  lifecycle:transition_ate_abort  \\\n",
       "0                     0                               0   \n",
       "1                     0                               0   \n",
       "2                     1                               0   \n",
       "\n",
       "   lifecycle:transition_complete  lifecycle:transition_resume  \\\n",
       "0                              1                            0   \n",
       "1                              1                            0   \n",
       "2                              0                            0   \n",
       "\n",
       "   lifecycle:transition_schedule  lifecycle:transition_start  \\\n",
       "0                              0                           0   \n",
       "1                              0                           0   \n",
       "2                              1                           0   \n",
       "\n",
       "   lifecycle:transition_suspend  lifecycle:transition_withdraw  \\\n",
       "0                             0                              0   \n",
       "1                             0                              0   \n",
       "2                             0                              0   \n",
       "\n",
       "   case:ApplicationType_Limit raise  case:ApplicationType_New credit  \n",
       "0                                 0                                1  \n",
       "1                                 0                                1  \n",
       "2                                 0                                1  \n",
       "\n",
       "[3 rows x 219 columns]"
      ]
     },
     "execution_count": 12,
     "metadata": {},
     "output_type": "execute_result"
    }
   ],
   "source": [
    "#import the data\n",
    "#if it drops a memory problem: increase the pagefile size on your computer!\n",
    "X_train = pd.read_csv(\"data/generated/frequency/X_train.csv\")\n",
    "y_train = pd.read_csv(\"data/generated/frequency/y_train.csv\")\n",
    "X_test = pd.read_csv(\"data/generated/frequency/X_test.csv\")\n",
    "y_test = pd.read_csv(\"data/generated/frequency/y_test.csv\")\n",
    "X_test.head(3)"
   ]
  },
  {
   "cell_type": "markdown",
   "id": "4febfdad-bece-4b52-9219-adffb7857264",
   "metadata": {},
   "source": [
    "### Pre-process the data"
   ]
  },
  {
   "cell_type": "code",
   "execution_count": 13,
   "id": "20a0d49d-c578-4525-8990-c4dc914874e1",
   "metadata": {},
   "outputs": [],
   "source": [
    "y_test = y_test['remaining_time']\n",
    "y_train = y_train['remaining_time']"
   ]
  },
  {
   "cell_type": "code",
   "execution_count": 14,
   "id": "682fd6e9-60a6-478c-8482-86e55b567a0c",
   "metadata": {},
   "outputs": [
    {
     "name": "stdout",
     "output_type": "stream",
     "text": [
      "Missing columns: set()\n"
     ]
    }
   ],
   "source": [
    "missing_columns = set(X_train.columns) - set(X_test.columns)\n",
    "print(\"Missing columns:\", missing_columns)"
   ]
  },
  {
   "cell_type": "code",
   "execution_count": 15,
   "id": "56abb228-5029-401f-8566-2366f8d91d96",
   "metadata": {},
   "outputs": [],
   "source": [
    "columns_2_drop= ['Unnamed: 0', 'EventID',\n",
    "        'time:timestamp',\n",
    "       'case:concept:name', 'Selected']"
   ]
  },
  {
   "cell_type": "code",
   "execution_count": 16,
   "id": "a5224ffe-6233-43c4-a31b-302573c74664",
   "metadata": {},
   "outputs": [],
   "source": [
    "# Drop the unnamed and lifecycle columns column\n",
    "X_test = X_test.drop(columns_2_drop, axis=1)\n",
    "X_train = X_train.drop(columns_2_drop + list(missing_columns), axis=1)"
   ]
  },
  {
   "cell_type": "code",
   "execution_count": 17,
   "id": "6bb3658a-632d-400d-bea9-6e70458edd6b",
   "metadata": {},
   "outputs": [
    {
     "data": {
      "text/html": [
       "<div>\n",
       "<style scoped>\n",
       "    .dataframe tbody tr th:only-of-type {\n",
       "        vertical-align: middle;\n",
       "    }\n",
       "\n",
       "    .dataframe tbody tr th {\n",
       "        vertical-align: top;\n",
       "    }\n",
       "\n",
       "    .dataframe thead th {\n",
       "        text-align: right;\n",
       "    }\n",
       "</style>\n",
       "<table border=\"1\" class=\"dataframe\">\n",
       "  <thead>\n",
       "    <tr style=\"text-align: right;\">\n",
       "      <th></th>\n",
       "      <th>case:RequestedAmount</th>\n",
       "      <th>FirstWithdrawalAmount</th>\n",
       "      <th>NumberOfTerms</th>\n",
       "      <th>MonthlyCost</th>\n",
       "      <th>CreditScore</th>\n",
       "      <th>OfferedAmount</th>\n",
       "      <th>event_index_in_trace</th>\n",
       "      <th>execution_time</th>\n",
       "      <th>Action_Created</th>\n",
       "      <th>Action_Deleted</th>\n",
       "      <th>...</th>\n",
       "      <th>EventOrigin_Workflow</th>\n",
       "      <th>lifecycle:transition_ate_abort</th>\n",
       "      <th>lifecycle:transition_complete</th>\n",
       "      <th>lifecycle:transition_resume</th>\n",
       "      <th>lifecycle:transition_schedule</th>\n",
       "      <th>lifecycle:transition_start</th>\n",
       "      <th>lifecycle:transition_suspend</th>\n",
       "      <th>lifecycle:transition_withdraw</th>\n",
       "      <th>case:ApplicationType_Limit raise</th>\n",
       "      <th>case:ApplicationType_New credit</th>\n",
       "    </tr>\n",
       "  </thead>\n",
       "  <tbody>\n",
       "    <tr>\n",
       "      <th>0</th>\n",
       "      <td>5000.0</td>\n",
       "      <td>NaN</td>\n",
       "      <td>NaN</td>\n",
       "      <td>NaN</td>\n",
       "      <td>NaN</td>\n",
       "      <td>NaN</td>\n",
       "      <td>0</td>\n",
       "      <td>0.000000</td>\n",
       "      <td>1</td>\n",
       "      <td>0</td>\n",
       "      <td>...</td>\n",
       "      <td>0</td>\n",
       "      <td>0</td>\n",
       "      <td>1</td>\n",
       "      <td>0</td>\n",
       "      <td>0</td>\n",
       "      <td>0</td>\n",
       "      <td>0</td>\n",
       "      <td>0</td>\n",
       "      <td>0</td>\n",
       "      <td>1</td>\n",
       "    </tr>\n",
       "    <tr>\n",
       "      <th>1</th>\n",
       "      <td>5000.0</td>\n",
       "      <td>NaN</td>\n",
       "      <td>NaN</td>\n",
       "      <td>NaN</td>\n",
       "      <td>NaN</td>\n",
       "      <td>NaN</td>\n",
       "      <td>1</td>\n",
       "      <td>0.000014</td>\n",
       "      <td>1</td>\n",
       "      <td>0</td>\n",
       "      <td>...</td>\n",
       "      <td>0</td>\n",
       "      <td>0</td>\n",
       "      <td>1</td>\n",
       "      <td>0</td>\n",
       "      <td>0</td>\n",
       "      <td>0</td>\n",
       "      <td>0</td>\n",
       "      <td>0</td>\n",
       "      <td>0</td>\n",
       "      <td>1</td>\n",
       "    </tr>\n",
       "    <tr>\n",
       "      <th>2</th>\n",
       "      <td>5000.0</td>\n",
       "      <td>NaN</td>\n",
       "      <td>NaN</td>\n",
       "      <td>NaN</td>\n",
       "      <td>NaN</td>\n",
       "      <td>NaN</td>\n",
       "      <td>2</td>\n",
       "      <td>0.000017</td>\n",
       "      <td>2</td>\n",
       "      <td>0</td>\n",
       "      <td>...</td>\n",
       "      <td>1</td>\n",
       "      <td>0</td>\n",
       "      <td>0</td>\n",
       "      <td>0</td>\n",
       "      <td>1</td>\n",
       "      <td>0</td>\n",
       "      <td>0</td>\n",
       "      <td>0</td>\n",
       "      <td>0</td>\n",
       "      <td>1</td>\n",
       "    </tr>\n",
       "    <tr>\n",
       "      <th>3</th>\n",
       "      <td>5000.0</td>\n",
       "      <td>NaN</td>\n",
       "      <td>NaN</td>\n",
       "      <td>NaN</td>\n",
       "      <td>NaN</td>\n",
       "      <td>NaN</td>\n",
       "      <td>3</td>\n",
       "      <td>0.001048</td>\n",
       "      <td>2</td>\n",
       "      <td>1</td>\n",
       "      <td>...</td>\n",
       "      <td>1</td>\n",
       "      <td>0</td>\n",
       "      <td>0</td>\n",
       "      <td>0</td>\n",
       "      <td>0</td>\n",
       "      <td>0</td>\n",
       "      <td>0</td>\n",
       "      <td>1</td>\n",
       "      <td>0</td>\n",
       "      <td>1</td>\n",
       "    </tr>\n",
       "    <tr>\n",
       "      <th>4</th>\n",
       "      <td>5000.0</td>\n",
       "      <td>NaN</td>\n",
       "      <td>NaN</td>\n",
       "      <td>NaN</td>\n",
       "      <td>NaN</td>\n",
       "      <td>NaN</td>\n",
       "      <td>4</td>\n",
       "      <td>0.001048</td>\n",
       "      <td>3</td>\n",
       "      <td>1</td>\n",
       "      <td>...</td>\n",
       "      <td>1</td>\n",
       "      <td>0</td>\n",
       "      <td>0</td>\n",
       "      <td>0</td>\n",
       "      <td>1</td>\n",
       "      <td>0</td>\n",
       "      <td>0</td>\n",
       "      <td>0</td>\n",
       "      <td>0</td>\n",
       "      <td>1</td>\n",
       "    </tr>\n",
       "  </tbody>\n",
       "</table>\n",
       "<p>5 rows × 214 columns</p>\n",
       "</div>"
      ],
      "text/plain": [
       "   case:RequestedAmount  FirstWithdrawalAmount  NumberOfTerms  MonthlyCost  \\\n",
       "0                5000.0                    NaN            NaN          NaN   \n",
       "1                5000.0                    NaN            NaN          NaN   \n",
       "2                5000.0                    NaN            NaN          NaN   \n",
       "3                5000.0                    NaN            NaN          NaN   \n",
       "4                5000.0                    NaN            NaN          NaN   \n",
       "\n",
       "   CreditScore  OfferedAmount  event_index_in_trace  execution_time  \\\n",
       "0          NaN            NaN                     0        0.000000   \n",
       "1          NaN            NaN                     1        0.000014   \n",
       "2          NaN            NaN                     2        0.000017   \n",
       "3          NaN            NaN                     3        0.001048   \n",
       "4          NaN            NaN                     4        0.001048   \n",
       "\n",
       "   Action_Created  Action_Deleted  ...  EventOrigin_Workflow  \\\n",
       "0               1               0  ...                     0   \n",
       "1               1               0  ...                     0   \n",
       "2               2               0  ...                     1   \n",
       "3               2               1  ...                     1   \n",
       "4               3               1  ...                     1   \n",
       "\n",
       "   lifecycle:transition_ate_abort  lifecycle:transition_complete  \\\n",
       "0                               0                              1   \n",
       "1                               0                              1   \n",
       "2                               0                              0   \n",
       "3                               0                              0   \n",
       "4                               0                              0   \n",
       "\n",
       "   lifecycle:transition_resume  lifecycle:transition_schedule  \\\n",
       "0                            0                              0   \n",
       "1                            0                              0   \n",
       "2                            0                              1   \n",
       "3                            0                              0   \n",
       "4                            0                              1   \n",
       "\n",
       "   lifecycle:transition_start  lifecycle:transition_suspend  \\\n",
       "0                           0                             0   \n",
       "1                           0                             0   \n",
       "2                           0                             0   \n",
       "3                           0                             0   \n",
       "4                           0                             0   \n",
       "\n",
       "   lifecycle:transition_withdraw  case:ApplicationType_Limit raise  \\\n",
       "0                              0                                 0   \n",
       "1                              0                                 0   \n",
       "2                              0                                 0   \n",
       "3                              1                                 0   \n",
       "4                              0                                 0   \n",
       "\n",
       "   case:ApplicationType_New credit  \n",
       "0                                1  \n",
       "1                                1  \n",
       "2                                1  \n",
       "3                                1  \n",
       "4                                1  \n",
       "\n",
       "[5 rows x 214 columns]"
      ]
     },
     "execution_count": 17,
     "metadata": {},
     "output_type": "execute_result"
    }
   ],
   "source": [
    "X_test.head()"
   ]
  },
  {
   "cell_type": "code",
   "execution_count": 18,
   "id": "e4a7da3a-25a1-45f0-9f0b-3cd4219fe100",
   "metadata": {},
   "outputs": [
    {
     "data": {
      "text/plain": [
       "case:RequestedAmount                float64\n",
       "FirstWithdrawalAmount               float64\n",
       "NumberOfTerms                       float64\n",
       "MonthlyCost                         float64\n",
       "CreditScore                         float64\n",
       "                                     ...   \n",
       "lifecycle:transition_start            int64\n",
       "lifecycle:transition_suspend          int64\n",
       "lifecycle:transition_withdraw         int64\n",
       "case:ApplicationType_Limit raise      int64\n",
       "case:ApplicationType_New credit       int64\n",
       "Length: 214, dtype: object"
      ]
     },
     "execution_count": 18,
     "metadata": {},
     "output_type": "execute_result"
    }
   ],
   "source": [
    "X_test.dtypes"
   ]
  },
  {
   "cell_type": "markdown",
   "id": "bb4048e8-7f87-4ba7-95e1-20ab250286c7",
   "metadata": {},
   "source": [
    "### Building the model"
   ]
  },
  {
   "cell_type": "code",
   "execution_count": 19,
   "id": "fac52f74-e881-4831-8450-0ec8e7b0bf46",
   "metadata": {},
   "outputs": [],
   "source": [
    "# Create a CatBoost regressor\n",
    "model = CatBoostRegressor(iterations=500, depth=6, learning_rate=0.01, loss_function='RMSE')"
   ]
  },
  {
   "cell_type": "code",
   "execution_count": 20,
   "id": "a4d05275-7e4f-4677-a3d8-9325a6bdc6bb",
   "metadata": {},
   "outputs": [
    {
     "name": "stdout",
     "output_type": "stream",
     "text": [
      "0:\tlearn: 13.4747622\ttest: 11.9212112\tbest: 11.9212112 (0)\ttotal: 240ms\tremaining: 1m 59s\n",
      "10:\tlearn: 13.0538793\ttest: 11.4867527\tbest: 11.4867527 (10)\ttotal: 1.04s\tremaining: 46.1s\n",
      "20:\tlearn: 12.6982711\ttest: 11.1210723\tbest: 11.1210723 (20)\ttotal: 1.87s\tremaining: 42.7s\n",
      "30:\tlearn: 12.3993236\ttest: 10.8143504\tbest: 10.8143504 (30)\ttotal: 2.67s\tremaining: 40.4s\n",
      "40:\tlearn: 12.1476975\ttest: 10.5589832\tbest: 10.5589832 (40)\ttotal: 3.48s\tremaining: 38.9s\n",
      "50:\tlearn: 11.9369396\ttest: 10.3506279\tbest: 10.3506279 (50)\ttotal: 4.28s\tremaining: 37.7s\n",
      "60:\tlearn: 11.7613149\ttest: 10.1734008\tbest: 10.1734008 (60)\ttotal: 5.08s\tremaining: 36.5s\n",
      "70:\tlearn: 11.6135132\ttest: 10.0281306\tbest: 10.0281306 (70)\ttotal: 5.87s\tremaining: 35.5s\n",
      "80:\tlearn: 11.4906383\ttest: 9.9073777\tbest: 9.9073777 (80)\ttotal: 6.66s\tremaining: 34.5s\n",
      "90:\tlearn: 11.3865775\ttest: 9.8087142\tbest: 9.8087142 (90)\ttotal: 7.46s\tremaining: 33.6s\n",
      "100:\tlearn: 11.3000542\ttest: 9.7270070\tbest: 9.7270070 (100)\ttotal: 8.26s\tremaining: 32.6s\n",
      "110:\tlearn: 11.2255981\ttest: 9.6605034\tbest: 9.6605034 (110)\ttotal: 9.05s\tremaining: 31.7s\n",
      "120:\tlearn: 11.1629042\ttest: 9.6043657\tbest: 9.6043657 (120)\ttotal: 9.84s\tremaining: 30.8s\n",
      "130:\tlearn: 11.1091516\ttest: 9.5552233\tbest: 9.5552233 (130)\ttotal: 10.6s\tremaining: 30s\n",
      "140:\tlearn: 11.0637921\ttest: 9.5152920\tbest: 9.5152920 (140)\ttotal: 11.4s\tremaining: 29.1s\n",
      "150:\tlearn: 11.0234315\ttest: 9.4823778\tbest: 9.4823778 (150)\ttotal: 12.2s\tremaining: 28.2s\n",
      "160:\tlearn: 10.9893190\ttest: 9.4538764\tbest: 9.4538764 (160)\ttotal: 13s\tremaining: 27.3s\n",
      "170:\tlearn: 10.9589499\ttest: 9.4297257\tbest: 9.4297257 (170)\ttotal: 13.7s\tremaining: 26.5s\n",
      "180:\tlearn: 10.9335444\ttest: 9.4107508\tbest: 9.4107508 (180)\ttotal: 14.5s\tremaining: 25.6s\n",
      "190:\tlearn: 10.9107604\ttest: 9.3960081\tbest: 9.3960081 (190)\ttotal: 15.3s\tremaining: 24.8s\n",
      "200:\tlearn: 10.8910929\ttest: 9.3833625\tbest: 9.3833625 (200)\ttotal: 16.1s\tremaining: 24s\n",
      "210:\tlearn: 10.8737907\ttest: 9.3741974\tbest: 9.3741974 (210)\ttotal: 16.9s\tremaining: 23.1s\n",
      "220:\tlearn: 10.8570408\ttest: 9.3663615\tbest: 9.3663615 (220)\ttotal: 17.7s\tremaining: 22.4s\n",
      "230:\tlearn: 10.8432587\ttest: 9.3592455\tbest: 9.3592455 (230)\ttotal: 18.6s\tremaining: 21.6s\n",
      "240:\tlearn: 10.8299420\ttest: 9.3535498\tbest: 9.3535498 (240)\ttotal: 19.4s\tremaining: 20.9s\n",
      "250:\tlearn: 10.8187514\ttest: 9.3492970\tbest: 9.3492970 (250)\ttotal: 20.2s\tremaining: 20.1s\n",
      "260:\tlearn: 10.8070935\ttest: 9.3488589\tbest: 9.3485555 (258)\ttotal: 21.1s\tremaining: 19.3s\n",
      "270:\tlearn: 10.7972291\ttest: 9.3472505\tbest: 9.3472505 (270)\ttotal: 21.9s\tremaining: 18.5s\n",
      "280:\tlearn: 10.7874214\ttest: 9.3447967\tbest: 9.3447616 (278)\ttotal: 22.7s\tremaining: 17.7s\n",
      "290:\tlearn: 10.7792334\ttest: 9.3432016\tbest: 9.3432016 (290)\ttotal: 23.5s\tremaining: 16.9s\n",
      "300:\tlearn: 10.7706825\ttest: 9.3420774\tbest: 9.3420090 (299)\ttotal: 24.3s\tremaining: 16.1s\n",
      "310:\tlearn: 10.7630314\ttest: 9.3414472\tbest: 9.3410128 (307)\ttotal: 25.1s\tremaining: 15.3s\n",
      "320:\tlearn: 10.7567055\ttest: 9.3411033\tbest: 9.3408166 (315)\ttotal: 25.9s\tremaining: 14.5s\n",
      "330:\tlearn: 10.7506072\ttest: 9.3406189\tbest: 9.3406189 (330)\ttotal: 26.7s\tremaining: 13.6s\n",
      "340:\tlearn: 10.7447896\ttest: 9.3410350\tbest: 9.3404405 (332)\ttotal: 27.5s\tremaining: 12.8s\n",
      "Stopped by overfitting detector  (10 iterations wait)\n",
      "\n",
      "bestTest = 9.340440538\n",
      "bestIteration = 332\n",
      "\n",
      "Shrink model to first 333 iterations.\n"
     ]
    },
    {
     "data": {
      "text/plain": [
       "<catboost.core.CatBoostRegressor at 0x1957b55d410>"
      ]
     },
     "execution_count": 20,
     "metadata": {},
     "output_type": "execute_result"
    }
   ],
   "source": [
    "# Train the model\n",
    "model.fit(X_train, y_train, \n",
    "          eval_set=(X_test, y_test),\n",
    "          early_stopping_rounds=10, verbose=10)"
   ]
  },
  {
   "cell_type": "code",
   "execution_count": 21,
   "id": "a3a806dd-361a-42e7-968b-dfd7be197eb5",
   "metadata": {},
   "outputs": [],
   "source": [
    "# Make predictions on the test set\n",
    "y_pred = model.predict(X_test)"
   ]
  },
  {
   "cell_type": "markdown",
   "id": "96508c42-6dd9-48b5-83c9-dbc8f3f010a6",
   "metadata": {},
   "source": [
    "### Evaluate the model"
   ]
  },
  {
   "cell_type": "code",
   "execution_count": 22,
   "id": "595faf4e-7bf8-4cb2-845c-3698ea0fbf42",
   "metadata": {},
   "outputs": [
    {
     "data": {
      "text/plain": [
       "87.24382937519675"
      ]
     },
     "execution_count": 22,
     "metadata": {},
     "output_type": "execute_result"
    }
   ],
   "source": [
    "# MSE\n",
    "mean_squared_error(y_test, y_pred)"
   ]
  },
  {
   "cell_type": "code",
   "execution_count": 23,
   "id": "f8d31fcc-3f9c-4abd-892e-f9c620a0cb53",
   "metadata": {},
   "outputs": [
    {
     "data": {
      "text/plain": [
       "0.38782555577053657"
      ]
     },
     "execution_count": 23,
     "metadata": {},
     "output_type": "execute_result"
    }
   ],
   "source": [
    "# R2\n",
    "r2_score(y_test, y_pred)"
   ]
  },
  {
   "cell_type": "markdown",
   "id": "666de27b-27f8-4733-acd7-adfa3270c45a",
   "metadata": {},
   "source": [
    "### Feature importance"
   ]
  },
  {
   "cell_type": "code",
   "execution_count": 27,
   "id": "478c1a02-b9ad-40e4-a5f4-4e0d8868f3dc",
   "metadata": {},
   "outputs": [
    {
     "data": {
      "image/png": "[encoded data removed]",
      "text/plain": [
       "<Figure size 1000x600 with 1 Axes>"
      ]
     },
     "metadata": {},
     "output_type": "display_data"
    }
   ],
   "source": [
    "import matplotlib.pyplot as plt\n",
    "\n",
    "# Assuming 'model' is your trained CatBoostRegressor\n",
    "feature_importance = model.get_feature_importance()\n",
    "\n",
    "# Get feature names from the original DataFrame (X_train)\n",
    "feature_names = X_train.columns\n",
    "\n",
    "# Create a DataFrame to store feature importance values with their corresponding names\n",
    "feature_importance_df = pd.DataFrame({'Feature': feature_names, 'Importance': feature_importance})\n",
    "\n",
    "# Set the threshold for visibility\n",
    "threshold = 0.5  # Adjust this threshold as needed\n",
    "\n",
    "# Filter features based on the threshold\n",
    "important_features = feature_importance_df[feature_importance_df['Importance'] >= threshold]\n",
    "\n",
    "# Sort the DataFrame by importance in descending order\n",
    "important_features = important_features.sort_values(by='Importance', ascending=False)\n",
    "\n",
    "# Plot feature importance for only the relevant features\n",
    "plt.figure(figsize=(10, 6))\n",
    "plt.barh(important_features['Feature'], important_features['Importance'])\n",
    "plt.xlabel('Feature Importance')\n",
    "plt.ylabel('Feature')\n",
    "plt.title('CatBoost Feature Importance (Above Threshold)')\n",
    "plt.show()\n"
   ]
  }
 ],
 "metadata": {
  "kernelspec": {
   "display_name": "Python 3 (ipykernel)",
   "language": "python",
   "name": "python3"
  },
  "language_info": {
   "codemirror_mode": {
    "name": "ipython",
    "version": 3
   },
   "file_extension": ".py",
   "mimetype": "text/x-python",
   "name": "python",
   "nbconvert_exporter": "python",
   "pygments_lexer": "ipython3",
   "version": "3.11.3"
  }
 },
 "nbformat": 4,
 "nbformat_minor": 5
}
