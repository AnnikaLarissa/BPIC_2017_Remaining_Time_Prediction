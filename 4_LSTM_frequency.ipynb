{
 "cells": [
  {
   "cell_type": "markdown",
   "id": "9297e90a-5772-4ca9-b81e-76298835db84",
   "metadata": {},
   "source": [
    "# LSTM predictor - Frequency encoded\n",
    "Implemented version of the LSTM model predictor model with one-hot encoding"
   ]
  },
  {
   "cell_type": "code",
   "execution_count": 10,
   "id": "8064661c-0da3-4482-961f-1f1480d0bb55",
   "metadata": {},
   "outputs": [],
   "source": [
    "# import basic libraries\n",
    "import pandas as pd\n",
    "import numpy as np\n",
    "\n",
    "# import machine learning libraries\n",
    "from sklearn.metrics import mean_squared_error\n",
    "from sklearn.metrics import r2_score\n",
    "from sklearn.preprocessing import MinMaxScaler\n",
    "from sklearn.preprocessing import LabelEncoder\n",
    "\n",
    "#import catboost\n",
    "from keras.models import Sequential\n",
    "from keras.layers import LSTM, Dense, Dropout\n",
    "from keras.preprocessing.sequence import pad_sequences"
   ]
  },
  {
   "cell_type": "code",
   "execution_count": 11,
   "id": "f13b1819-826e-4766-81ba-e1138589d5c4",
   "metadata": {},
   "outputs": [
    {
     "data": {
      "text/html": [
       "<div>\n",
       "<style scoped>\n",
       "    .dataframe tbody tr th:only-of-type {\n",
       "        vertical-align: middle;\n",
       "    }\n",
       "\n",
       "    .dataframe tbody tr th {\n",
       "        vertical-align: top;\n",
       "    }\n",
       "\n",
       "    .dataframe thead th {\n",
       "        text-align: right;\n",
       "    }\n",
       "</style>\n",
       "<table border=\"1\" class=\"dataframe\">\n",
       "  <thead>\n",
       "    <tr style=\"text-align: right;\">\n",
       "      <th></th>\n",
       "      <th>Unnamed: 0</th>\n",
       "      <th>EventID</th>\n",
       "      <th>time:timestamp</th>\n",
       "      <th>case:concept:name</th>\n",
       "      <th>case:RequestedAmount</th>\n",
       "      <th>FirstWithdrawalAmount</th>\n",
       "      <th>NumberOfTerms</th>\n",
       "      <th>MonthlyCost</th>\n",
       "      <th>Selected</th>\n",
       "      <th>CreditScore</th>\n",
       "      <th>...</th>\n",
       "      <th>EventOrigin_Workflow</th>\n",
       "      <th>lifecycle:transition_ate_abort</th>\n",
       "      <th>lifecycle:transition_complete</th>\n",
       "      <th>lifecycle:transition_resume</th>\n",
       "      <th>lifecycle:transition_schedule</th>\n",
       "      <th>lifecycle:transition_start</th>\n",
       "      <th>lifecycle:transition_suspend</th>\n",
       "      <th>lifecycle:transition_withdraw</th>\n",
       "      <th>case:ApplicationType_Limit raise</th>\n",
       "      <th>case:ApplicationType_New credit</th>\n",
       "    </tr>\n",
       "  </thead>\n",
       "  <tbody>\n",
       "    <tr>\n",
       "      <th>0</th>\n",
       "      <td>1093289</td>\n",
       "      <td>Application_1000386745</td>\n",
       "      <td>2016-11-25 14:31:09.852000+00:00</td>\n",
       "      <td>Application_1000386745</td>\n",
       "      <td>5000.0</td>\n",
       "      <td>NaN</td>\n",
       "      <td>NaN</td>\n",
       "      <td>NaN</td>\n",
       "      <td>NaN</td>\n",
       "      <td>NaN</td>\n",
       "      <td>...</td>\n",
       "      <td>0</td>\n",
       "      <td>0</td>\n",
       "      <td>1</td>\n",
       "      <td>0</td>\n",
       "      <td>0</td>\n",
       "      <td>0</td>\n",
       "      <td>0</td>\n",
       "      <td>0</td>\n",
       "      <td>0</td>\n",
       "      <td>1</td>\n",
       "    </tr>\n",
       "    <tr>\n",
       "      <th>1</th>\n",
       "      <td>1093290</td>\n",
       "      <td>ApplState_508603983</td>\n",
       "      <td>2016-11-25 14:31:11.088000+00:00</td>\n",
       "      <td>Application_1000386745</td>\n",
       "      <td>5000.0</td>\n",
       "      <td>NaN</td>\n",
       "      <td>NaN</td>\n",
       "      <td>NaN</td>\n",
       "      <td>NaN</td>\n",
       "      <td>NaN</td>\n",
       "      <td>...</td>\n",
       "      <td>0</td>\n",
       "      <td>0</td>\n",
       "      <td>1</td>\n",
       "      <td>0</td>\n",
       "      <td>0</td>\n",
       "      <td>0</td>\n",
       "      <td>0</td>\n",
       "      <td>0</td>\n",
       "      <td>0</td>\n",
       "      <td>1</td>\n",
       "    </tr>\n",
       "    <tr>\n",
       "      <th>2</th>\n",
       "      <td>1093291</td>\n",
       "      <td>Workitem_1662375286</td>\n",
       "      <td>2016-11-25 14:31:11.309000+00:00</td>\n",
       "      <td>Application_1000386745</td>\n",
       "      <td>5000.0</td>\n",
       "      <td>NaN</td>\n",
       "      <td>NaN</td>\n",
       "      <td>NaN</td>\n",
       "      <td>NaN</td>\n",
       "      <td>NaN</td>\n",
       "      <td>...</td>\n",
       "      <td>1</td>\n",
       "      <td>0</td>\n",
       "      <td>0</td>\n",
       "      <td>0</td>\n",
       "      <td>1</td>\n",
       "      <td>0</td>\n",
       "      <td>0</td>\n",
       "      <td>0</td>\n",
       "      <td>0</td>\n",
       "      <td>1</td>\n",
       "    </tr>\n",
       "  </tbody>\n",
       "</table>\n",
       "<p>3 rows × 219 columns</p>\n",
       "</div>"
      ],
      "text/plain": [
       "   Unnamed: 0                 EventID                    time:timestamp  \\\n",
       "0     1093289  Application_1000386745  2016-11-25 14:31:09.852000+00:00   \n",
       "1     1093290     ApplState_508603983  2016-11-25 14:31:11.088000+00:00   \n",
       "2     1093291     Workitem_1662375286  2016-11-25 14:31:11.309000+00:00   \n",
       "\n",
       "        case:concept:name  case:RequestedAmount  FirstWithdrawalAmount  \\\n",
       "0  Application_1000386745                5000.0                    NaN   \n",
       "1  Application_1000386745                5000.0                    NaN   \n",
       "2  Application_1000386745                5000.0                    NaN   \n",
       "\n",
       "   NumberOfTerms  MonthlyCost Selected  CreditScore  ...  \\\n",
       "0            NaN          NaN      NaN          NaN  ...   \n",
       "1            NaN          NaN      NaN          NaN  ...   \n",
       "2            NaN          NaN      NaN          NaN  ...   \n",
       "\n",
       "   EventOrigin_Workflow  lifecycle:transition_ate_abort  \\\n",
       "0                     0                               0   \n",
       "1                     0                               0   \n",
       "2                     1                               0   \n",
       "\n",
       "   lifecycle:transition_complete  lifecycle:transition_resume  \\\n",
       "0                              1                            0   \n",
       "1                              1                            0   \n",
       "2                              0                            0   \n",
       "\n",
       "   lifecycle:transition_schedule  lifecycle:transition_start  \\\n",
       "0                              0                           0   \n",
       "1                              0                           0   \n",
       "2                              1                           0   \n",
       "\n",
       "   lifecycle:transition_suspend  lifecycle:transition_withdraw  \\\n",
       "0                             0                              0   \n",
       "1                             0                              0   \n",
       "2                             0                              0   \n",
       "\n",
       "   case:ApplicationType_Limit raise  case:ApplicationType_New credit  \n",
       "0                                 0                                1  \n",
       "1                                 0                                1  \n",
       "2                                 0                                1  \n",
       "\n",
       "[3 rows x 219 columns]"
      ]
     },
     "execution_count": 11,
     "metadata": {},
     "output_type": "execute_result"
    }
   ],
   "source": [
    "#import the data\n",
    "X_train = pd.read_csv(\"data/generated/frequency/X_train.csv\")\n",
    "y_train = pd.read_csv(\"data/generated/frequency/y_train.csv\")\n",
    "X_test = pd.read_csv(\"data/generated/frequency/X_test.csv\")\n",
    "y_test = pd.read_csv(\"data/generated/frequency/y_test.csv\")\n",
    "X_test.head(3)"
   ]
  },
  {
   "cell_type": "markdown",
   "id": "4febfdad-bece-4b52-9219-adffb7857264",
   "metadata": {},
   "source": [
    "### Pre-process the data"
   ]
  },
  {
   "cell_type": "code",
   "execution_count": 12,
   "id": "20a0d49d-c578-4525-8990-c4dc914874e1",
   "metadata": {},
   "outputs": [],
   "source": [
    "X_train['remaining_time'] = y_train['remaining_time']\n",
    "X_test['remaining_time'] = y_test['remaining_time']"
   ]
  },
  {
   "cell_type": "code",
   "execution_count": 13,
   "id": "3f289299-d02a-4790-b8e8-ef3fe583fef2",
   "metadata": {},
   "outputs": [],
   "source": [
    "X_train.fillna(0, inplace=True)\n",
    "X_test.fillna(0, inplace=True)"
   ]
  },
  {
   "cell_type": "code",
   "execution_count": 14,
   "id": "56abb228-5029-401f-8566-2366f8d91d96",
   "metadata": {},
   "outputs": [],
   "source": [
    "columns_2_drop= ['Unnamed: 0', 'EventID','Selected']"
   ]
  },
  {
   "cell_type": "code",
   "execution_count": 15,
   "id": "a5224ffe-6233-43c4-a31b-302573c74664",
   "metadata": {},
   "outputs": [],
   "source": [
    "# Drop the unnamed and lifecycle columns column\n",
    "X_test = X_test.drop(columns_2_drop, axis=1)\n",
    "X_train = X_train.drop(columns_2_drop, axis=1)"
   ]
  },
  {
   "cell_type": "code",
   "execution_count": 16,
   "id": "2d9836d4-604a-47d0-818e-76b1d7f4fcea",
   "metadata": {},
   "outputs": [],
   "source": [
    "# Label encode case identifiers\n",
    "label_encoder = LabelEncoder()\n",
    "X_test['case_id'] = label_encoder.fit_transform(X_test['case:concept:name'])\n",
    "X_train['case_id'] = label_encoder.fit_transform(X_train['case:concept:name'])"
   ]
  },
  {
   "cell_type": "code",
   "execution_count": 17,
   "id": "de9e590a-5957-40ea-bda1-94aa8321b198",
   "metadata": {},
   "outputs": [],
   "source": [
    "# Sort data by case_id and timestamp\n",
    "X_test.sort_values(['case_id', 'time:timestamp'], inplace=True)\n",
    "X_train.sort_values(['case_id', 'time:timestamp'], inplace=True)"
   ]
  },
  {
   "cell_type": "code",
   "execution_count": 18,
   "id": "a10ee0c1-8c03-4af7-9950-86675304b945",
   "metadata": {},
   "outputs": [],
   "source": [
    "# Create sequences for each case, including temporal information\n",
    "sequences_X = []\n",
    "sequences_Y = []\n",
    "case_ids = X_test['case_id'].unique()\n",
    "\n",
    "for case_id in case_ids:\n",
    "    case_df = X_test[X_test['case_id'] == case_id]\n",
    "    \n",
    "    sequence_X = case_df.drop(['case:concept:name', 'time:timestamp'], axis=1).values\n",
    "    sequences_X.append(sequence_X)\n",
    "    # Target variable (Y)\n",
    "    sequence_Y = case_df['remaining_time'].values\n",
    "    sequences_Y.append(sequence_Y)\n",
    "\n",
    "# Pad sequences to have a consistent length\n",
    "X_test = pad_sequences(sequences_X, padding='post', dtype='float32')\n",
    "y_test = pad_sequences(sequences_Y, padding='post', dtype='float32')"
   ]
  },
  {
   "cell_type": "code",
   "execution_count": 19,
   "id": "613b0dda-db11-4635-9bf6-bf27153cbdca",
   "metadata": {},
   "outputs": [],
   "source": [
    "# Create sequences for each case, including temporal information\n",
    "sequences_X = []\n",
    "sequences_Y = []\n",
    "case_ids = X_train['case_id'].unique()\n",
    "\n",
    "for case_id in case_ids:\n",
    "    case_df = X_train[X_train['case_id'] == case_id]\n",
    "    \n",
    "    sequence_X = case_df.drop(['case:concept:name', 'time:timestamp'], axis=1).values\n",
    "    sequences_X.append(sequence_X)\n",
    "    # Target variable (Y)\n",
    "    sequence_Y = case_df['remaining_time'].values\n",
    "    sequences_Y.append(sequence_Y)\n",
    "\n",
    "# Pad sequences to have a consistent length\n",
    "X_train = pad_sequences(sequences_X, padding='post', dtype='float32')\n",
    "y_train = pad_sequences(sequences_Y, padding='post', dtype='float32')"
   ]
  },
  {
   "cell_type": "code",
   "execution_count": 20,
   "id": "e28d70ea-bf37-4b3e-9b6a-23823287d827",
   "metadata": {},
   "outputs": [],
   "source": [
    "# Normalize the features using Min-Max scaling based on the training set\n",
    "#scaler = MinMaxScaler()\n",
    "#X_train = scaler.fit_transform(X_train)\n",
    "#X_test = scaler.transform(X_test)"
   ]
  },
  {
   "cell_type": "code",
   "execution_count": 21,
   "id": "2c21f3b2-7b49-464c-a326-20d64072a175",
   "metadata": {},
   "outputs": [],
   "source": [
    "# Reshape the data for LSTM input (assuming univariate time series)\n",
    "#X_train = X_train.reshape((X_train.shape[0], 1, X_train.shape[1]))\n",
    "#X_test = X_test.reshape((X_test.shape[0], 1, X_test.shape[1]))"
   ]
  },
  {
   "cell_type": "markdown",
   "id": "bb4048e8-7f87-4ba7-95e1-20ab250286c7",
   "metadata": {},
   "source": [
    "### Building the model"
   ]
  },
  {
   "cell_type": "code",
   "execution_count": 22,
   "id": "fac52f74-e881-4831-8450-0ec8e7b0bf46",
   "metadata": {},
   "outputs": [],
   "source": [
    "# Define the LSTM model\n",
    "model = Sequential()\n",
    "model.add(LSTM(50,input_shape=(X_train.shape[1], X_train.shape[2])))\n",
    "#model.add(LSTM(50, activation='relu',input_shape=(X_train.shape[1], X_train.shape[2]),return_sequences=True))\n",
    "#model.add(Dropout(0.1))\n",
    "model.add(Dense(1))\n",
    "model.compile(optimizer='adam', loss='mean_squared_error')"
   ]
  },
  {
   "cell_type": "code",
   "execution_count": 23,
   "id": "a4d05275-7e4f-4677-a3d8-9325a6bdc6bb",
   "metadata": {},
   "outputs": [
    {
     "name": "stdout",
     "output_type": "stream",
     "text": [
      "Epoch 1/10\n",
      "1653/1653 [==============================] - ETA: 0s - loss: 68.1988"
     ]
    },
    {
     "ename": "ValueError",
     "evalue": "in user code:\n\n    File \"C:\\Users\\bendi\\AppData\\Local\\Programs\\Python\\Python311\\Lib\\site-packages\\keras\\src\\engine\\training.py\", line 2042, in test_function  *\n        return step_function(self, iterator)\n    File \"C:\\Users\\bendi\\AppData\\Local\\Programs\\Python\\Python311\\Lib\\site-packages\\keras\\src\\engine\\training.py\", line 2025, in step_function  **\n        outputs = model.distribute_strategy.run(run_step, args=(data,))\n    File \"C:\\Users\\bendi\\AppData\\Local\\Programs\\Python\\Python311\\Lib\\site-packages\\keras\\src\\engine\\training.py\", line 2013, in run_step  **\n        outputs = model.test_step(data)\n    File \"C:\\Users\\bendi\\AppData\\Local\\Programs\\Python\\Python311\\Lib\\site-packages\\keras\\src\\engine\\training.py\", line 1893, in test_step\n        y_pred = self(x, training=False)\n    File \"C:\\Users\\bendi\\AppData\\Local\\Programs\\Python\\Python311\\Lib\\site-packages\\keras\\src\\utils\\traceback_utils.py\", line 70, in error_handler\n        raise e.with_traceback(filtered_tb) from None\n    File \"C:\\Users\\bendi\\AppData\\Local\\Programs\\Python\\Python311\\Lib\\site-packages\\keras\\src\\engine\\input_spec.py\", line 298, in assert_input_compatibility\n        raise ValueError(\n\n    ValueError: Input 0 of layer \"sequential\" is incompatible with the layer: expected shape=(None, 180, 216), found shape=(None, 149, 216)\n",
     "output_type": "error",
     "traceback": [
      "\u001b[1;31m---------------------------------------------------------------------------\u001b[0m",
      "\u001b[1;31mValueError\u001b[0m                                Traceback (most recent call last)",
      "Cell \u001b[1;32mIn[23], line 2\u001b[0m\n\u001b[0;32m      1\u001b[0m \u001b[38;5;66;03m# Train the model\u001b[39;00m\n\u001b[1;32m----> 2\u001b[0m \u001b[43mmodel\u001b[49m\u001b[38;5;241;43m.\u001b[39;49m\u001b[43mfit\u001b[49m\u001b[43m(\u001b[49m\u001b[43mX_train\u001b[49m\u001b[43m,\u001b[49m\u001b[43m \u001b[49m\u001b[43my_train\u001b[49m\u001b[43m,\u001b[49m\u001b[43m \u001b[49m\u001b[43mepochs\u001b[49m\u001b[38;5;241;43m=\u001b[39;49m\u001b[38;5;241;43m10\u001b[39;49m\u001b[43m,\u001b[49m\u001b[43m \u001b[49m\u001b[43mbatch_size\u001b[49m\u001b[38;5;241;43m=\u001b[39;49m\u001b[38;5;241;43m16\u001b[39;49m\u001b[43m,\u001b[49m\u001b[43m \u001b[49m\u001b[43mvalidation_data\u001b[49m\u001b[38;5;241;43m=\u001b[39;49m\u001b[43m(\u001b[49m\u001b[43mX_test\u001b[49m\u001b[43m,\u001b[49m\u001b[43m \u001b[49m\u001b[43my_test\u001b[49m\u001b[43m)\u001b[49m\u001b[43m,\u001b[49m\u001b[43m \u001b[49m\u001b[43mverbose\u001b[49m\u001b[38;5;241;43m=\u001b[39;49m\u001b[38;5;241;43m1\u001b[39;49m\u001b[43m)\u001b[49m\n",
      "File \u001b[1;32m~\\AppData\\Local\\Programs\\Python\\Python311\\Lib\\site-packages\\keras\\src\\utils\\traceback_utils.py:70\u001b[0m, in \u001b[0;36mfilter_traceback.<locals>.error_handler\u001b[1;34m(*args, **kwargs)\u001b[0m\n\u001b[0;32m     67\u001b[0m     filtered_tb \u001b[38;5;241m=\u001b[39m _process_traceback_frames(e\u001b[38;5;241m.\u001b[39m__traceback__)\n\u001b[0;32m     68\u001b[0m     \u001b[38;5;66;03m# To get the full stack trace, call:\u001b[39;00m\n\u001b[0;32m     69\u001b[0m     \u001b[38;5;66;03m# `tf.debugging.disable_traceback_filtering()`\u001b[39;00m\n\u001b[1;32m---> 70\u001b[0m     \u001b[38;5;28;01mraise\u001b[39;00m e\u001b[38;5;241m.\u001b[39mwith_traceback(filtered_tb) \u001b[38;5;28;01mfrom\u001b[39;00m \u001b[38;5;28;01mNone\u001b[39;00m\n\u001b[0;32m     71\u001b[0m \u001b[38;5;28;01mfinally\u001b[39;00m:\n\u001b[0;32m     72\u001b[0m     \u001b[38;5;28;01mdel\u001b[39;00m filtered_tb\n",
      "File \u001b[1;32m~\\AppData\\Local\\Temp\\__autograph_generated_filegr443ess.py:15\u001b[0m, in \u001b[0;36mouter_factory.<locals>.inner_factory.<locals>.tf__test_function\u001b[1;34m(iterator)\u001b[0m\n\u001b[0;32m     13\u001b[0m \u001b[38;5;28;01mtry\u001b[39;00m:\n\u001b[0;32m     14\u001b[0m     do_return \u001b[38;5;241m=\u001b[39m \u001b[38;5;28;01mTrue\u001b[39;00m\n\u001b[1;32m---> 15\u001b[0m     retval_ \u001b[38;5;241m=\u001b[39m ag__\u001b[38;5;241m.\u001b[39mconverted_call(ag__\u001b[38;5;241m.\u001b[39mld(step_function), (ag__\u001b[38;5;241m.\u001b[39mld(\u001b[38;5;28mself\u001b[39m), ag__\u001b[38;5;241m.\u001b[39mld(iterator)), \u001b[38;5;28;01mNone\u001b[39;00m, fscope)\n\u001b[0;32m     16\u001b[0m \u001b[38;5;28;01mexcept\u001b[39;00m:\n\u001b[0;32m     17\u001b[0m     do_return \u001b[38;5;241m=\u001b[39m \u001b[38;5;28;01mFalse\u001b[39;00m\n",
      "\u001b[1;31mValueError\u001b[0m: in user code:\n\n    File \"C:\\Users\\bendi\\AppData\\Local\\Programs\\Python\\Python311\\Lib\\site-packages\\keras\\src\\engine\\training.py\", line 2042, in test_function  *\n        return step_function(self, iterator)\n    File \"C:\\Users\\bendi\\AppData\\Local\\Programs\\Python\\Python311\\Lib\\site-packages\\keras\\src\\engine\\training.py\", line 2025, in step_function  **\n        outputs = model.distribute_strategy.run(run_step, args=(data,))\n    File \"C:\\Users\\bendi\\AppData\\Local\\Programs\\Python\\Python311\\Lib\\site-packages\\keras\\src\\engine\\training.py\", line 2013, in run_step  **\n        outputs = model.test_step(data)\n    File \"C:\\Users\\bendi\\AppData\\Local\\Programs\\Python\\Python311\\Lib\\site-packages\\keras\\src\\engine\\training.py\", line 1893, in test_step\n        y_pred = self(x, training=False)\n    File \"C:\\Users\\bendi\\AppData\\Local\\Programs\\Python\\Python311\\Lib\\site-packages\\keras\\src\\utils\\traceback_utils.py\", line 70, in error_handler\n        raise e.with_traceback(filtered_tb) from None\n    File \"C:\\Users\\bendi\\AppData\\Local\\Programs\\Python\\Python311\\Lib\\site-packages\\keras\\src\\engine\\input_spec.py\", line 298, in assert_input_compatibility\n        raise ValueError(\n\n    ValueError: Input 0 of layer \"sequential\" is incompatible with the layer: expected shape=(None, 180, 216), found shape=(None, 149, 216)\n"
     ]
    }
   ],
   "source": [
    "# Train the model\n",
    "model.fit(X_train, y_train, epochs=10, batch_size=16, validation_data=(X_test, y_test), verbose=1)"
   ]
  },
  {
   "cell_type": "code",
   "execution_count": null,
   "id": "a3a806dd-361a-42e7-968b-dfd7be197eb5",
   "metadata": {},
   "outputs": [],
   "source": [
    "# Make predictions on the test set\n",
    "y_pred = model.predict(X_test)"
   ]
  },
  {
   "cell_type": "code",
   "execution_count": null,
   "id": "fb639051-dbb2-4ede-8c96-594883793d5f",
   "metadata": {},
   "outputs": [],
   "source": [
    "# Denormalize the predictions to the original scale\n",
    "y_pred = scaler.inverse_transform(y_pred_normalized.reshape(-1, 1)).flatten()"
   ]
  },
  {
   "cell_type": "markdown",
   "id": "96508c42-6dd9-48b5-83c9-dbc8f3f010a6",
   "metadata": {},
   "source": [
    "### Evaluate the model"
   ]
  },
  {
   "cell_type": "code",
   "execution_count": null,
   "id": "595faf4e-7bf8-4cb2-845c-3698ea0fbf42",
   "metadata": {},
   "outputs": [],
   "source": [
    "# MSE\n",
    "mean_squared_error(y_test, y_pred)"
   ]
  },
  {
   "cell_type": "code",
   "execution_count": null,
   "id": "f8d31fcc-3f9c-4abd-892e-f9c620a0cb53",
   "metadata": {},
   "outputs": [],
   "source": [
    "# R2\n",
    "r2_score(y_test, y_pred)"
   ]
  },
  {
   "cell_type": "code",
   "execution_count": null,
   "id": "fe771340-406c-4cbc-af93-2e4286fb0859",
   "metadata": {},
   "outputs": [],
   "source": [
    "# Evaluate the model\n",
    "mse = np.mean((y_test - y_pred)**2)\n",
    "mae = np.mean(np.abs(y_test - y_pred))\n",
    "\n",
    "print(f\"Mean Squared Error (MSE): {mse}\")\n",
    "print(f\"Mean Absolute Error (MAE): {mae}\")"
   ]
  },
  {
   "cell_type": "markdown",
   "id": "666de27b-27f8-4733-acd7-adfa3270c45a",
   "metadata": {},
   "source": [
    "### Feature importance"
   ]
  },
  {
   "cell_type": "code",
   "execution_count": null,
   "id": "478c1a02-b9ad-40e4-a5f4-4e0d8868f3dc",
   "metadata": {},
   "outputs": [],
   "source": [
    "import matplotlib.pyplot as plt\n",
    "\n",
    "# Assuming 'model' is your trained CatBoostRegressor\n",
    "feature_importance = model.get_feature_importance()\n",
    "\n",
    "# Get feature names from the original DataFrame (X_train)\n",
    "feature_names = X_train.columns\n",
    "\n",
    "# Create a DataFrame to store feature importance values with their corresponding names\n",
    "feature_importance_df = pd.DataFrame({'Feature': feature_names, 'Importance': feature_importance})\n",
    "\n",
    "# Set the threshold for visibility\n",
    "threshold = 0.01  # Adjust this threshold as needed\n",
    "\n",
    "# Filter features based on the threshold\n",
    "important_features = feature_importance_df[feature_importance_df['Importance'] >= threshold]\n",
    "\n",
    "# Sort the DataFrame by importance in descending order\n",
    "important_features = important_features.sort_values(by='Importance', ascending=False)\n",
    "\n",
    "# Plot feature importance for only the relevant features\n",
    "plt.figure(figsize=(10, 6))\n",
    "plt.barh(important_features['Feature'], important_features['Importance'])\n",
    "plt.xlabel('Feature Importance')\n",
    "plt.ylabel('Feature')\n",
    "plt.title('CatBoost Feature Importance (Above Threshold)')\n",
    "plt.show()\n"
   ]
  }
 ],
 "metadata": {
  "kernelspec": {
   "display_name": "Python 3 (ipykernel)",
   "language": "python",
   "name": "python3"
  },
  "language_info": {
   "codemirror_mode": {
    "name": "ipython",
    "version": 3
   },
   "file_extension": ".py",
   "mimetype": "text/x-python",
   "name": "python",
   "nbconvert_exporter": "python",
   "pygments_lexer": "ipython3",
   "version": "3.11.3"
  }
 },
 "nbformat": 4,
 "nbformat_minor": 5
}
