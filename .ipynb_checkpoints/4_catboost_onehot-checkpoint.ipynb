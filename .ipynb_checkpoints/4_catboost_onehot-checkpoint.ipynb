{
 "cells": [
  {
   "cell_type": "markdown",
   "id": "9297e90a-5772-4ca9-b81e-76298835db84",
   "metadata": {},
   "source": [
    "# Catboost predictor - One-hot encoded\n",
    "Implemented version of the catboost model predictor model with one-hot encoding"
   ]
  },
  {
   "cell_type": "code",
   "execution_count": 1,
   "id": "8064661c-0da3-4482-961f-1f1480d0bb55",
   "metadata": {},
   "outputs": [],
   "source": [
    "# import basic libraries\n",
    "import pandas as pd\n",
    "\n",
    "# import machine learning libraries\n",
    "from sklearn.metrics import mean_squared_error\n",
    "from sklearn.metrics import r2_score\n",
    "\n",
    "#import catboost\n",
    "from catboost import CatBoostRegressor"
   ]
  },
  {
   "cell_type": "code",
   "execution_count": 17,
   "id": "f13b1819-826e-4766-81ba-e1138589d5c4",
   "metadata": {},
   "outputs": [
    {
     "data": {
      "text/plain": [
       "Unnamed: 0                                 int64\n",
       "case:concept:name                         object\n",
       "time:timestamp                            object\n",
       "case:RequestedAmount                     float64\n",
       "event_index_in_trace                       int64\n",
       "Action_Created                             int64\n",
       "Action_Deleted                             int64\n",
       "Action_Obtained                            int64\n",
       "Action_Released                            int64\n",
       "Action_statechange                         int64\n",
       "concept:name_A_Accepted                    int64\n",
       "concept:name_A_Cancelled                   int64\n",
       "concept:name_A_Complete                    int64\n",
       "concept:name_A_Concept                     int64\n",
       "concept:name_A_Create Application          int64\n",
       "concept:name_A_Denied                      int64\n",
       "concept:name_A_Incomplete                  int64\n",
       "concept:name_A_Pending                     int64\n",
       "concept:name_A_Submitted                   int64\n",
       "concept:name_A_Validating                  int64\n",
       "concept:name_O_Accepted                    int64\n",
       "concept:name_O_Cancelled                   int64\n",
       "concept:name_O_Create Offer                int64\n",
       "concept:name_O_Created                     int64\n",
       "concept:name_O_Refused                     int64\n",
       "concept:name_O_Returned                    int64\n",
       "concept:name_O_Sent (mail and online)      int64\n",
       "concept:name_O_Sent (online only)          int64\n",
       "concept:name_W_Assess potential fraud      int64\n",
       "concept:name_W_Call after offers           int64\n",
       "concept:name_W_Call incomplete files       int64\n",
       "concept:name_W_Complete application        int64\n",
       "concept:name_W_Handle leads                int64\n",
       "concept:name_W_Validate application        int64\n",
       "case:LoanGoal_Boat                         int64\n",
       "case:LoanGoal_Business goal                int64\n",
       "case:LoanGoal_Car                          int64\n",
       "case:LoanGoal_Caravan / Camper             int64\n",
       "case:LoanGoal_Debt restructuring           int64\n",
       "case:LoanGoal_Existing loan takeover       int64\n",
       "case:LoanGoal_Extra spending limit         int64\n",
       "case:LoanGoal_Home improvement             int64\n",
       "case:LoanGoal_Motorcycle                   int64\n",
       "case:LoanGoal_Not speficied                int64\n",
       "case:LoanGoal_Other, see explanation       int64\n",
       "case:LoanGoal_Remaining debt home          int64\n",
       "case:LoanGoal_Tax payments                 int64\n",
       "case:LoanGoal_Unknown                      int64\n",
       "dtype: object"
      ]
     },
     "execution_count": 17,
     "metadata": {},
     "output_type": "execute_result"
    }
   ],
   "source": [
    "#import the data\n",
    "X_train = pd.read_csv(\"data/generated/example/X_train.csv\")\n",
    "y_train = pd.read_csv(\"data/generated/example/y_train.csv\")\n",
    "X_test = pd.read_csv(\"data/generated/example/X_test.csv\")\n",
    "y_test = pd.read_csv(\"data/generated/example/y_test.csv\")\n",
    "X_test.head()"
   ]
  },
  {
   "cell_type": "markdown",
   "id": "4febfdad-bece-4b52-9219-adffb7857264",
   "metadata": {},
   "source": [
    "### Pre-process the data"
   ]
  },
  {
   "cell_type": "code",
   "execution_count": 3,
   "id": "20a0d49d-c578-4525-8990-c4dc914874e1",
   "metadata": {},
   "outputs": [],
   "source": [
    "#Saving the data into csv adds the numerical indexing\n",
    "y_test = y_test['remaining_time']\n",
    "y_train = y_train['remaining_time']"
   ]
  },
  {
   "cell_type": "code",
   "execution_count": 4,
   "id": "de1c36e4-c81d-4946-b50d-196ad92a24d8",
   "metadata": {},
   "outputs": [],
   "source": [
    "# Drop the unnamed and lifecycle columns column\n",
    "X_test = X_test.drop(['Unnamed: 0','lifecycle:transition','time:timestamp','org:resource'], axis=1)\n",
    "X_train = X_train.drop(['Unnamed: 0','lifecycle:transition','time:timestamp','org:resource'], axis=1)"
   ]
  },
  {
   "cell_type": "code",
   "execution_count": 5,
   "id": "5580c7fb-5925-4268-9398-361f6c5f5508",
   "metadata": {},
   "outputs": [],
   "source": [
    "# Separate categorical and numeric features\n",
    "categorical_features = ['case:concept:name']\n",
    "numeric_features = X_train.columns.difference(categorical_features)\n",
    "\n",
    "# Convert categorical features to string\n",
    "X_train[categorical_features] = X_train[categorical_features].astype(str)\n",
    "X_test[categorical_features] = X_test[categorical_features].astype(str)"
   ]
  },
  {
   "cell_type": "code",
   "execution_count": 6,
   "id": "e4a7da3a-25a1-45f0-9f0b-3cd4219fe100",
   "metadata": {},
   "outputs": [
    {
     "data": {
      "text/plain": [
       "case:concept:name                           object\n",
       "case:RequestedAmount                       float64\n",
       "event_index_in_trace                         int64\n",
       "Action_Created                               int64\n",
       "Action_Deleted                               int64\n",
       "Action_Obtained                              int64\n",
       "Action_Released                              int64\n",
       "Action_statechange                           int64\n",
       "concept:name_A_Accepted                      int64\n",
       "concept:name_A_Cancelled                     int64\n",
       "concept:name_A_Complete                      int64\n",
       "concept:name_A_Concept                       int64\n",
       "concept:name_A_Create Application            int64\n",
       "concept:name_A_Denied                        int64\n",
       "concept:name_A_Incomplete                    int64\n",
       "concept:name_A_Pending                       int64\n",
       "concept:name_A_Submitted                     int64\n",
       "concept:name_A_Validating                    int64\n",
       "concept:name_O_Accepted                      int64\n",
       "concept:name_O_Cancelled                     int64\n",
       "concept:name_O_Create Offer                  int64\n",
       "concept:name_O_Created                       int64\n",
       "concept:name_O_Refused                       int64\n",
       "concept:name_O_Returned                      int64\n",
       "concept:name_O_Sent (mail and online)        int64\n",
       "concept:name_O_Sent (online only)            int64\n",
       "concept:name_W_Assess potential fraud        int64\n",
       "concept:name_W_Call after offers             int64\n",
       "concept:name_W_Call incomplete files         int64\n",
       "concept:name_W_Complete application          int64\n",
       "concept:name_W_Handle leads                  int64\n",
       "concept:name_W_Personal Loan collection      int64\n",
       "concept:name_W_Shortened completion          int64\n",
       "concept:name_W_Validate application          int64\n",
       "case:LoanGoal_Boat                           int64\n",
       "case:LoanGoal_Business goal                  int64\n",
       "case:LoanGoal_Car                            int64\n",
       "case:LoanGoal_Caravan / Camper               int64\n",
       "case:LoanGoal_Debt restructuring             int64\n",
       "case:LoanGoal_Existing loan takeover         int64\n",
       "case:LoanGoal_Extra spending limit           int64\n",
       "case:LoanGoal_Home improvement               int64\n",
       "case:LoanGoal_Motorcycle                     int64\n",
       "case:LoanGoal_Not speficied                  int64\n",
       "case:LoanGoal_Other, see explanation         int64\n",
       "case:LoanGoal_Remaining debt home            int64\n",
       "case:LoanGoal_Tax payments                   int64\n",
       "case:LoanGoal_Unknown                        int64\n",
       "dtype: object"
      ]
     },
     "execution_count": 6,
     "metadata": {},
     "output_type": "execute_result"
    }
   ],
   "source": [
    "X_train.dtypes"
   ]
  },
  {
   "cell_type": "markdown",
   "id": "6f54c29a-fdc8-4222-9024-69ce472808d6",
   "metadata": {},
   "source": [
    "### Comparing column length"
   ]
  },
  {
   "cell_type": "code",
   "execution_count": 7,
   "id": "f2299fe1-fa31-4eb4-b7b3-546cd4dc987d",
   "metadata": {},
   "outputs": [],
   "source": [
    "def compare_columns(df1, df2):\n",
    "    \"\"\"\n",
    "    Compare the column names of two DataFrames and list the columns that are missing in one compared to the other.\n",
    "\n",
    "    Parameters:\n",
    "    - df1, df2: DataFrames to be compared.\n",
    "\n",
    "    Returns:\n",
    "    - Missing columns in df1 compared to df2 and vice versa.\n",
    "    \"\"\"\n",
    "    missing_in_df1 = set(df2.columns) - set(df1.columns)\n",
    "    missing_in_df2 = set(df1.columns) - set(df2.columns)\n",
    "\n",
    "    return {\n",
    "        'missing_in_df1': list(missing_in_df1),\n",
    "        'missing_in_df2': list(missing_in_df2)\n",
    "    }"
   ]
  },
  {
   "cell_type": "code",
   "execution_count": 8,
   "id": "d9a16774-860e-462d-b5a2-ba70e070d0da",
   "metadata": {},
   "outputs": [
    {
     "name": "stdout",
     "output_type": "stream",
     "text": [
      "Columns missing in X_train compared to X_test: []\n",
      "Columns missing in X_test compared to X_train: ['concept:name_W_Shortened completion ', 'concept:name_W_Personal Loan collection']\n"
     ]
    }
   ],
   "source": [
    "# Assuming X_train and X_test are your DataFrames\n",
    "missing_columns = compare_columns(X_train, X_test)\n",
    "\n",
    "print(\"Columns missing in X_train compared to X_test:\", missing_columns['missing_in_df1'])\n",
    "print(\"Columns missing in X_test compared to X_train:\", missing_columns['missing_in_df2'])"
   ]
  },
  {
   "cell_type": "code",
   "execution_count": 9,
   "id": "a5c5ee52-84f6-4212-a8f0-f4fecd366e40",
   "metadata": {},
   "outputs": [],
   "source": [
    "#As a quick fix just simply drop the previous columns from X_train\n",
    "X_train = X_train.drop(['concept:name_W_Shortened completion ', 'concept:name_W_Personal Loan collection'], axis=1)"
   ]
  },
  {
   "cell_type": "markdown",
   "id": "bb4048e8-7f87-4ba7-95e1-20ab250286c7",
   "metadata": {},
   "source": [
    "### Building the model"
   ]
  },
  {
   "cell_type": "code",
   "execution_count": 10,
   "id": "fac52f74-e881-4831-8450-0ec8e7b0bf46",
   "metadata": {},
   "outputs": [],
   "source": [
    "# Create a CatBoost regressor\n",
    "model = CatBoostRegressor(iterations=500, depth=6, learning_rate=0.01, loss_function='RMSE')"
   ]
  },
  {
   "cell_type": "code",
   "execution_count": 11,
   "id": "a4d05275-7e4f-4677-a3d8-9325a6bdc6bb",
   "metadata": {},
   "outputs": [
    {
     "name": "stdout",
     "output_type": "stream",
     "text": [
      "0:\tlearn: 13.4484746\ttest: 11.9328407\tbest: 11.9328407 (0)\ttotal: 358ms\tremaining: 2m 58s\n",
      "10:\tlearn: 12.7739336\ttest: 11.5939497\tbest: 11.5939497 (10)\ttotal: 2.11s\tremaining: 1m 33s\n",
      "20:\tlearn: 12.1890270\ttest: 11.3127361\tbest: 11.3127361 (20)\ttotal: 3.5s\tremaining: 1m 19s\n",
      "30:\tlearn: 11.6804574\ttest: 11.0685916\tbest: 11.0685916 (30)\ttotal: 4.79s\tremaining: 1m 12s\n",
      "40:\tlearn: 11.2416867\ttest: 10.8580217\tbest: 10.8580217 (40)\ttotal: 6.33s\tremaining: 1m 10s\n",
      "50:\tlearn: 10.8619820\ttest: 10.6820727\tbest: 10.6820727 (50)\ttotal: 7.86s\tremaining: 1m 9s\n",
      "60:\tlearn: 10.4993989\ttest: 10.5236273\tbest: 10.5236273 (60)\ttotal: 9.35s\tremaining: 1m 7s\n",
      "70:\tlearn: 10.1497947\ttest: 10.3932865\tbest: 10.3932865 (70)\ttotal: 10.8s\tremaining: 1m 5s\n",
      "80:\tlearn: 9.8469230\ttest: 10.2920322\tbest: 10.2920322 (80)\ttotal: 12.2s\tremaining: 1m 3s\n",
      "90:\tlearn: 9.5831560\ttest: 10.2075623\tbest: 10.2075623 (90)\ttotal: 13.6s\tremaining: 1m 1s\n",
      "100:\tlearn: 9.3533261\ttest: 10.1409080\tbest: 10.1409080 (100)\ttotal: 15s\tremaining: 59.1s\n",
      "110:\tlearn: 9.1529921\ttest: 10.0760311\tbest: 10.0760311 (110)\ttotal: 16.3s\tremaining: 57.3s\n",
      "120:\tlearn: 8.9791026\ttest: 10.0375562\tbest: 10.0375562 (120)\ttotal: 17.7s\tremaining: 55.4s\n",
      "130:\tlearn: 8.8245305\ttest: 9.9894281\tbest: 9.9894281 (130)\ttotal: 19.1s\tremaining: 53.9s\n",
      "140:\tlearn: 8.6884965\ttest: 9.9639588\tbest: 9.9639588 (140)\ttotal: 20.6s\tremaining: 52.4s\n",
      "150:\tlearn: 8.5695732\ttest: 9.9411371\tbest: 9.9411371 (150)\ttotal: 22.1s\tremaining: 51s\n",
      "160:\tlearn: 8.4657225\ttest: 9.9290999\tbest: 9.9290999 (160)\ttotal: 23.5s\tremaining: 49.4s\n",
      "170:\tlearn: 8.3728234\ttest: 9.9131346\tbest: 9.9131346 (170)\ttotal: 24.9s\tremaining: 47.9s\n",
      "180:\tlearn: 8.2874120\ttest: 9.9023185\tbest: 9.9023185 (180)\ttotal: 26.5s\tremaining: 46.7s\n",
      "190:\tlearn: 8.2133556\ttest: 9.9004847\tbest: 9.9001728 (187)\ttotal: 27.9s\tremaining: 45.2s\n",
      "200:\tlearn: 8.1440352\ttest: 9.8983206\tbest: 9.8961111 (196)\ttotal: 29.5s\tremaining: 43.8s\n",
      "Stopped by overfitting detector  (10 iterations wait)\n",
      "\n",
      "bestTest = 9.896111141\n",
      "bestIteration = 196\n",
      "\n",
      "Shrink model to first 197 iterations.\n"
     ]
    },
    {
     "data": {
      "text/plain": [
       "<catboost.core.CatBoostRegressor at 0x283c6e21e90>"
      ]
     },
     "execution_count": 11,
     "metadata": {},
     "output_type": "execute_result"
    }
   ],
   "source": [
    "# Train the model\n",
    "model.fit(X_train, y_train, cat_features=categorical_features, eval_set=(X_test, y_test), early_stopping_rounds=10, verbose=10)"
   ]
  },
  {
   "cell_type": "code",
   "execution_count": 12,
   "id": "a3a806dd-361a-42e7-968b-dfd7be197eb5",
   "metadata": {},
   "outputs": [],
   "source": [
    "# Make predictions on the test set\n",
    "y_pred = model.predict(X_test)"
   ]
  },
  {
   "cell_type": "markdown",
   "id": "96508c42-6dd9-48b5-83c9-dbc8f3f010a6",
   "metadata": {},
   "source": [
    "### Evaluate the model"
   ]
  },
  {
   "cell_type": "code",
   "execution_count": 13,
   "id": "595faf4e-7bf8-4cb2-845c-3698ea0fbf42",
   "metadata": {},
   "outputs": [
    {
     "data": {
      "text/plain": [
       "97.93301564690937"
      ]
     },
     "execution_count": 13,
     "metadata": {},
     "output_type": "execute_result"
    }
   ],
   "source": [
    "# MSE\n",
    "mean_squared_error(y_test, y_pred)"
   ]
  },
  {
   "cell_type": "code",
   "execution_count": 14,
   "id": "f8d31fcc-3f9c-4abd-892e-f9c620a0cb53",
   "metadata": {},
   "outputs": [
    {
     "data": {
      "text/plain": [
       "0.3128214355707044"
      ]
     },
     "execution_count": 14,
     "metadata": {},
     "output_type": "execute_result"
    }
   ],
   "source": [
    "# R2\n",
    "r2_score(y_test, y_pred)"
   ]
  },
  {
   "cell_type": "markdown",
   "id": "666de27b-27f8-4733-acd7-adfa3270c45a",
   "metadata": {},
   "source": [
    "### Feature importance"
   ]
  },
  {
   "cell_type": "code",
   "execution_count": 15,
   "id": "e5b609a7-ab2f-44a6-8673-605fa0a340b5",
   "metadata": {},
   "outputs": [
    {
     "data": {
      "image/png": "[encoded data removed]",
      "text/plain": [
       "<Figure size 1000x600 with 1 Axes>"
      ]
     },
     "metadata": {},
     "output_type": "display_data"
    }
   ],
   "source": [
    "import matplotlib.pyplot as plt\n",
    "\n",
    "# Assuming 'model' is your trained CatBoostRegressor\n",
    "feature_importance = model.get_feature_importance()\n",
    "\n",
    "# Get feature names from the original DataFrame (X_train)\n",
    "feature_names = X_train.columns\n",
    "\n",
    "# Create a DataFrame to store feature importance values with their corresponding names\n",
    "feature_importance_df = pd.DataFrame({'Feature': feature_names, 'Importance': feature_importance})\n",
    "\n",
    "# Set the threshold for visibility\n",
    "threshold = 0.01  # Adjust this threshold as needed\n",
    "\n",
    "# Filter features based on the threshold\n",
    "important_features = feature_importance_df[feature_importance_df['Importance'] >= threshold]\n",
    "\n",
    "# Sort the DataFrame by importance in descending order\n",
    "important_features = important_features.sort_values(by='Importance', ascending=False)\n",
    "\n",
    "# Plot feature importance for only the relevant features\n",
    "plt.figure(figsize=(10, 6))\n",
    "plt.barh(important_features['Feature'], important_features['Importance'])\n",
    "plt.xlabel('Feature Importance')\n",
    "plt.ylabel('Feature')\n",
    "plt.title('CatBoost Feature Importance (Above Threshold)')\n",
    "plt.show()\n"
   ]
  }
 ],
 "metadata": {
  "kernelspec": {
   "display_name": "Python 3 (ipykernel)",
   "language": "python",
   "name": "python3"
  },
  "language_info": {
   "codemirror_mode": {
    "name": "ipython",
    "version": 3
   },
   "file_extension": ".py",
   "mimetype": "text/x-python",
   "name": "python",
   "nbconvert_exporter": "python",
   "pygments_lexer": "ipython3",
   "version": "3.11.3"
  }
 },
 "nbformat": 4,
 "nbformat_minor": 5
}
