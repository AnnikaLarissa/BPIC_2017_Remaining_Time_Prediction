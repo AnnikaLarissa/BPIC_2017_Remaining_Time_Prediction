{
 "cells": [
  {
   "cell_type": "markdown",
   "id": "9297e90a-5772-4ca9-b81e-76298835db84",
   "metadata": {},
   "source": [
    "# Catboost predictor - Frequency encoded\n",
    "Implemented version of the catboost model predictor model with one-hot encoding"
   ]
  },
  {
   "cell_type": "code",
   "execution_count": 1,
   "id": "8064661c-0da3-4482-961f-1f1480d0bb55",
   "metadata": {},
   "outputs": [],
   "source": [
    "# import basic libraries\n",
    "import pandas as pd\n",
    "\n",
    "# import machine learning libraries\n",
    "from sklearn.metrics import mean_squared_error\n",
    "from sklearn.metrics import r2_score\n",
    "\n",
    "#import catboost\n",
    "from catboost import CatBoostRegressor"
   ]
  },
  {
   "cell_type": "code",
   "execution_count": 45,
   "id": "f13b1819-826e-4766-81ba-e1138589d5c4",
   "metadata": {},
   "outputs": [
    {
     "data": {
      "text/html": [
       "<div>\n",
       "<style scoped>\n",
       "    .dataframe tbody tr th:only-of-type {\n",
       "        vertical-align: middle;\n",
       "    }\n",
       "\n",
       "    .dataframe tbody tr th {\n",
       "        vertical-align: top;\n",
       "    }\n",
       "\n",
       "    .dataframe thead th {\n",
       "        text-align: right;\n",
       "    }\n",
       "</style>\n",
       "<table border=\"1\" class=\"dataframe\">\n",
       "  <thead>\n",
       "    <tr style=\"text-align: right;\">\n",
       "      <th></th>\n",
       "      <th>Unnamed: 0</th>\n",
       "      <th>org:resource</th>\n",
       "      <th>EventOrigin</th>\n",
       "      <th>EventID</th>\n",
       "      <th>lifecycle:transition</th>\n",
       "      <th>time:timestamp</th>\n",
       "      <th>case:ApplicationType</th>\n",
       "      <th>case:concept:name</th>\n",
       "      <th>case:RequestedAmount</th>\n",
       "      <th>FirstWithdrawalAmount</th>\n",
       "      <th>...</th>\n",
       "      <th>case:LoanGoal_Debt restructuring</th>\n",
       "      <th>case:LoanGoal_Existing loan takeover</th>\n",
       "      <th>case:LoanGoal_Extra spending limit</th>\n",
       "      <th>case:LoanGoal_Home improvement</th>\n",
       "      <th>case:LoanGoal_Motorcycle</th>\n",
       "      <th>case:LoanGoal_Not speficied</th>\n",
       "      <th>case:LoanGoal_Other, see explanation</th>\n",
       "      <th>case:LoanGoal_Remaining debt home</th>\n",
       "      <th>case:LoanGoal_Tax payments</th>\n",
       "      <th>case:LoanGoal_Unknown</th>\n",
       "    </tr>\n",
       "  </thead>\n",
       "  <tbody>\n",
       "    <tr>\n",
       "      <th>0</th>\n",
       "      <td>1093289</td>\n",
       "      <td>User_1</td>\n",
       "      <td>Application</td>\n",
       "      <td>Application_1000386745</td>\n",
       "      <td>complete</td>\n",
       "      <td>2016-11-25 14:31:09.852000+00:00</td>\n",
       "      <td>New credit</td>\n",
       "      <td>Application_1000386745</td>\n",
       "      <td>5000.0</td>\n",
       "      <td>NaN</td>\n",
       "      <td>...</td>\n",
       "      <td>0</td>\n",
       "      <td>0</td>\n",
       "      <td>0</td>\n",
       "      <td>0</td>\n",
       "      <td>0</td>\n",
       "      <td>0</td>\n",
       "      <td>0</td>\n",
       "      <td>0</td>\n",
       "      <td>0</td>\n",
       "      <td>0</td>\n",
       "    </tr>\n",
       "    <tr>\n",
       "      <th>1</th>\n",
       "      <td>1093290</td>\n",
       "      <td>User_1</td>\n",
       "      <td>Application</td>\n",
       "      <td>ApplState_508603983</td>\n",
       "      <td>complete</td>\n",
       "      <td>2016-11-25 14:31:11.088000+00:00</td>\n",
       "      <td>New credit</td>\n",
       "      <td>Application_1000386745</td>\n",
       "      <td>5000.0</td>\n",
       "      <td>NaN</td>\n",
       "      <td>...</td>\n",
       "      <td>0</td>\n",
       "      <td>0</td>\n",
       "      <td>0</td>\n",
       "      <td>0</td>\n",
       "      <td>0</td>\n",
       "      <td>0</td>\n",
       "      <td>0</td>\n",
       "      <td>0</td>\n",
       "      <td>0</td>\n",
       "      <td>0</td>\n",
       "    </tr>\n",
       "    <tr>\n",
       "      <th>2</th>\n",
       "      <td>1093291</td>\n",
       "      <td>User_1</td>\n",
       "      <td>Workflow</td>\n",
       "      <td>Workitem_1662375286</td>\n",
       "      <td>schedule</td>\n",
       "      <td>2016-11-25 14:31:11.309000+00:00</td>\n",
       "      <td>New credit</td>\n",
       "      <td>Application_1000386745</td>\n",
       "      <td>5000.0</td>\n",
       "      <td>NaN</td>\n",
       "      <td>...</td>\n",
       "      <td>0</td>\n",
       "      <td>0</td>\n",
       "      <td>0</td>\n",
       "      <td>0</td>\n",
       "      <td>0</td>\n",
       "      <td>0</td>\n",
       "      <td>0</td>\n",
       "      <td>0</td>\n",
       "      <td>0</td>\n",
       "      <td>0</td>\n",
       "    </tr>\n",
       "  </tbody>\n",
       "</table>\n",
       "<p>3 rows × 60 columns</p>\n",
       "</div>"
      ],
      "text/plain": [
       "   Unnamed: 0 org:resource  EventOrigin                 EventID  \\\n",
       "0     1093289       User_1  Application  Application_1000386745   \n",
       "1     1093290       User_1  Application     ApplState_508603983   \n",
       "2     1093291       User_1     Workflow     Workitem_1662375286   \n",
       "\n",
       "  lifecycle:transition                    time:timestamp case:ApplicationType  \\\n",
       "0             complete  2016-11-25 14:31:09.852000+00:00           New credit   \n",
       "1             complete  2016-11-25 14:31:11.088000+00:00           New credit   \n",
       "2             schedule  2016-11-25 14:31:11.309000+00:00           New credit   \n",
       "\n",
       "        case:concept:name  case:RequestedAmount  FirstWithdrawalAmount  ...  \\\n",
       "0  Application_1000386745                5000.0                    NaN  ...   \n",
       "1  Application_1000386745                5000.0                    NaN  ...   \n",
       "2  Application_1000386745                5000.0                    NaN  ...   \n",
       "\n",
       "   case:LoanGoal_Debt restructuring  case:LoanGoal_Existing loan takeover  \\\n",
       "0                                 0                                     0   \n",
       "1                                 0                                     0   \n",
       "2                                 0                                     0   \n",
       "\n",
       "  case:LoanGoal_Extra spending limit  case:LoanGoal_Home improvement  \\\n",
       "0                                  0                               0   \n",
       "1                                  0                               0   \n",
       "2                                  0                               0   \n",
       "\n",
       "   case:LoanGoal_Motorcycle  case:LoanGoal_Not speficied  \\\n",
       "0                         0                            0   \n",
       "1                         0                            0   \n",
       "2                         0                            0   \n",
       "\n",
       "   case:LoanGoal_Other, see explanation  case:LoanGoal_Remaining debt home  \\\n",
       "0                                     0                                  0   \n",
       "1                                     0                                  0   \n",
       "2                                     0                                  0   \n",
       "\n",
       "   case:LoanGoal_Tax payments  case:LoanGoal_Unknown  \n",
       "0                           0                      0  \n",
       "1                           0                      0  \n",
       "2                           0                      0  \n",
       "\n",
       "[3 rows x 60 columns]"
      ]
     },
     "execution_count": 45,
     "metadata": {},
     "output_type": "execute_result"
    }
   ],
   "source": [
    "#import the data\n",
    "X_train = pd.read_csv(\"data/generated/frequency/X_train.csv\")\n",
    "y_train = pd.read_csv(\"data/generated/frequency/y_train.csv\")\n",
    "X_test = pd.read_csv(\"data/generated/frequency/X_test.csv\")\n",
    "y_test = pd.read_csv(\"data/generated/frequency/y_test.csv\")\n",
    "X_test.head(3)"
   ]
  },
  {
   "cell_type": "markdown",
   "id": "4febfdad-bece-4b52-9219-adffb7857264",
   "metadata": {},
   "source": [
    "### Pre-process the data"
   ]
  },
  {
   "cell_type": "code",
   "execution_count": 46,
   "id": "20a0d49d-c578-4525-8990-c4dc914874e1",
   "metadata": {},
   "outputs": [],
   "source": [
    "y_test = y_test['remaining_time']\n",
    "y_train = y_train['remaining_time']"
   ]
  },
  {
   "cell_type": "code",
   "execution_count": 47,
   "id": "682fd6e9-60a6-478c-8482-86e55b567a0c",
   "metadata": {},
   "outputs": [
    {
     "name": "stdout",
     "output_type": "stream",
     "text": [
      "Missing columns: {'concept:name_W_Personal Loan collection', 'concept:name_W_Shortened completion '}\n"
     ]
    }
   ],
   "source": [
    "missing_columns = set(X_train.columns) - set(X_test.columns)\n",
    "print(\"Missing columns:\", missing_columns)"
   ]
  },
  {
   "cell_type": "code",
   "execution_count": 48,
   "id": "56abb228-5029-401f-8566-2366f8d91d96",
   "metadata": {},
   "outputs": [],
   "source": [
    "columns_2_drop= ['Unnamed: 0', 'EventID',\n",
    "        'time:timestamp',\n",
    "       'case:concept:name', 'Selected']"
   ]
  },
  {
   "cell_type": "code",
   "execution_count": 51,
   "id": "a5224ffe-6233-43c4-a31b-302573c74664",
   "metadata": {},
   "outputs": [],
   "source": [
    "# Drop the unnamed and lifecycle columns column\n",
    "X_test = X_test.drop(columns_2_drop, axis=1)\n",
    "X_train = X_train.drop(columns_2_drop + list(missing_columns), axis=1)"
   ]
  },
  {
   "cell_type": "code",
   "execution_count": 52,
   "id": "5580c7fb-5925-4268-9398-361f6c5f5508",
   "metadata": {},
   "outputs": [
    {
     "ename": "KeyError",
     "evalue": "\"['concept:name_W_Personal Loan collection', 'concept:name_W_Shortened completion '] not in index\"",
     "output_type": "error",
     "traceback": [
      "\u001b[1;31m---------------------------------------------------------------------------\u001b[0m",
      "\u001b[1;31mKeyError\u001b[0m                                  Traceback (most recent call last)",
      "Cell \u001b[1;32mIn[52], line 7\u001b[0m\n\u001b[0;32m      1\u001b[0m \u001b[38;5;66;03m# Separate categorical and numeric features\u001b[39;00m\n\u001b[0;32m      3\u001b[0m categorical_features \u001b[38;5;241m=\u001b[39m [\u001b[38;5;124m'\u001b[39m\u001b[38;5;124morg:resource\u001b[39m\u001b[38;5;124m'\u001b[39m, \n\u001b[0;32m      4\u001b[0m                   \u001b[38;5;124m'\u001b[39m\u001b[38;5;124mEventOrigin\u001b[39m\u001b[38;5;124m'\u001b[39m,\n\u001b[0;32m      5\u001b[0m                   \u001b[38;5;124m'\u001b[39m\u001b[38;5;124mlifecycle:transition\u001b[39m\u001b[38;5;124m'\u001b[39m, \n\u001b[0;32m      6\u001b[0m                   \u001b[38;5;124m'\u001b[39m\u001b[38;5;124mcase:ApplicationType\u001b[39m\u001b[38;5;124m'\u001b[39m]\n\u001b[1;32m----> 7\u001b[0m numeric_features \u001b[38;5;241m=\u001b[39m X_train[columns_2_keep]\u001b[38;5;241m.\u001b[39mcolumns\u001b[38;5;241m.\u001b[39mdifference(categorical_features)\n\u001b[0;32m      9\u001b[0m \u001b[38;5;66;03m# Convert categorical features to string\u001b[39;00m\n\u001b[0;32m     10\u001b[0m X_train[categorical_features] \u001b[38;5;241m=\u001b[39m X_train[categorical_features]\u001b[38;5;241m.\u001b[39mastype(\u001b[38;5;28mstr\u001b[39m)\n",
      "File \u001b[1;32m~\\anaconda3\\envs\\processMining\\Lib\\site-packages\\pandas\\core\\frame.py:3899\u001b[0m, in \u001b[0;36mDataFrame.__getitem__\u001b[1;34m(self, key)\u001b[0m\n\u001b[0;32m   3897\u001b[0m     \u001b[38;5;28;01mif\u001b[39;00m is_iterator(key):\n\u001b[0;32m   3898\u001b[0m         key \u001b[38;5;241m=\u001b[39m \u001b[38;5;28mlist\u001b[39m(key)\n\u001b[1;32m-> 3899\u001b[0m     indexer \u001b[38;5;241m=\u001b[39m \u001b[38;5;28mself\u001b[39m\u001b[38;5;241m.\u001b[39mcolumns\u001b[38;5;241m.\u001b[39m_get_indexer_strict(key, \u001b[38;5;124m\"\u001b[39m\u001b[38;5;124mcolumns\u001b[39m\u001b[38;5;124m\"\u001b[39m)[\u001b[38;5;241m1\u001b[39m]\n\u001b[0;32m   3901\u001b[0m \u001b[38;5;66;03m# take() does not accept boolean indexers\u001b[39;00m\n\u001b[0;32m   3902\u001b[0m \u001b[38;5;28;01mif\u001b[39;00m \u001b[38;5;28mgetattr\u001b[39m(indexer, \u001b[38;5;124m\"\u001b[39m\u001b[38;5;124mdtype\u001b[39m\u001b[38;5;124m\"\u001b[39m, \u001b[38;5;28;01mNone\u001b[39;00m) \u001b[38;5;241m==\u001b[39m \u001b[38;5;28mbool\u001b[39m:\n",
      "File \u001b[1;32m~\\anaconda3\\envs\\processMining\\Lib\\site-packages\\pandas\\core\\indexes\\base.py:6115\u001b[0m, in \u001b[0;36mIndex._get_indexer_strict\u001b[1;34m(self, key, axis_name)\u001b[0m\n\u001b[0;32m   6112\u001b[0m \u001b[38;5;28;01melse\u001b[39;00m:\n\u001b[0;32m   6113\u001b[0m     keyarr, indexer, new_indexer \u001b[38;5;241m=\u001b[39m \u001b[38;5;28mself\u001b[39m\u001b[38;5;241m.\u001b[39m_reindex_non_unique(keyarr)\n\u001b[1;32m-> 6115\u001b[0m \u001b[38;5;28mself\u001b[39m\u001b[38;5;241m.\u001b[39m_raise_if_missing(keyarr, indexer, axis_name)\n\u001b[0;32m   6117\u001b[0m keyarr \u001b[38;5;241m=\u001b[39m \u001b[38;5;28mself\u001b[39m\u001b[38;5;241m.\u001b[39mtake(indexer)\n\u001b[0;32m   6118\u001b[0m \u001b[38;5;28;01mif\u001b[39;00m \u001b[38;5;28misinstance\u001b[39m(key, Index):\n\u001b[0;32m   6119\u001b[0m     \u001b[38;5;66;03m# GH 42790 - Preserve name from an Index\u001b[39;00m\n",
      "File \u001b[1;32m~\\anaconda3\\envs\\processMining\\Lib\\site-packages\\pandas\\core\\indexes\\base.py:6179\u001b[0m, in \u001b[0;36mIndex._raise_if_missing\u001b[1;34m(self, key, indexer, axis_name)\u001b[0m\n\u001b[0;32m   6176\u001b[0m     \u001b[38;5;28;01mraise\u001b[39;00m \u001b[38;5;167;01mKeyError\u001b[39;00m(\u001b[38;5;124mf\u001b[39m\u001b[38;5;124m\"\u001b[39m\u001b[38;5;124mNone of [\u001b[39m\u001b[38;5;132;01m{\u001b[39;00mkey\u001b[38;5;132;01m}\u001b[39;00m\u001b[38;5;124m] are in the [\u001b[39m\u001b[38;5;132;01m{\u001b[39;00maxis_name\u001b[38;5;132;01m}\u001b[39;00m\u001b[38;5;124m]\u001b[39m\u001b[38;5;124m\"\u001b[39m)\n\u001b[0;32m   6178\u001b[0m not_found \u001b[38;5;241m=\u001b[39m \u001b[38;5;28mlist\u001b[39m(ensure_index(key)[missing_mask\u001b[38;5;241m.\u001b[39mnonzero()[\u001b[38;5;241m0\u001b[39m]]\u001b[38;5;241m.\u001b[39munique())\n\u001b[1;32m-> 6179\u001b[0m \u001b[38;5;28;01mraise\u001b[39;00m \u001b[38;5;167;01mKeyError\u001b[39;00m(\u001b[38;5;124mf\u001b[39m\u001b[38;5;124m\"\u001b[39m\u001b[38;5;132;01m{\u001b[39;00mnot_found\u001b[38;5;132;01m}\u001b[39;00m\u001b[38;5;124m not in index\u001b[39m\u001b[38;5;124m\"\u001b[39m)\n",
      "\u001b[1;31mKeyError\u001b[0m: \"['concept:name_W_Personal Loan collection', 'concept:name_W_Shortened completion '] not in index\""
     ]
    }
   ],
   "source": [
    "# Separate categorical and numeric features\n",
    "\n",
    "categorical_features = ['org:resource', \n",
    "                  'EventOrigin',\n",
    "                  'lifecycle:transition', \n",
    "                  'case:ApplicationType']\n",
    "numeric_features = X_train[columns_2_keep].columns.difference(categorical_features)\n",
    "\n",
    "# Convert categorical features to string\n",
    "X_train[categorical_features] = X_train[categorical_features].astype(str)\n",
    "X_test[categorical_features] = X_test[categorical_features].astype(str)"
   ]
  },
  {
   "cell_type": "code",
   "execution_count": 53,
   "id": "e4a7da3a-25a1-45f0-9f0b-3cd4219fe100",
   "metadata": {},
   "outputs": [
    {
     "data": {
      "text/plain": [
       "org:resource                              object\n",
       "EventOrigin                               object\n",
       "lifecycle:transition                      object\n",
       "case:ApplicationType                      object\n",
       "case:RequestedAmount                     float64\n",
       "FirstWithdrawalAmount                    float64\n",
       "NumberOfTerms                            float64\n",
       "MonthlyCost                              float64\n",
       "CreditScore                              float64\n",
       "OfferedAmount                            float64\n",
       "event_index_in_trace                       int64\n",
       "execution_time                           float64\n",
       "Action_Created                             int64\n",
       "Action_Deleted                             int64\n",
       "Action_Obtained                            int64\n",
       "Action_Released                            int64\n",
       "Action_statechange                         int64\n",
       "concept:name_A_Accepted                    int64\n",
       "concept:name_A_Cancelled                   int64\n",
       "concept:name_A_Complete                    int64\n",
       "concept:name_A_Concept                     int64\n",
       "concept:name_A_Create Application          int64\n",
       "concept:name_A_Denied                      int64\n",
       "concept:name_A_Incomplete                  int64\n",
       "concept:name_A_Pending                     int64\n",
       "concept:name_A_Submitted                   int64\n",
       "concept:name_A_Validating                  int64\n",
       "concept:name_O_Accepted                    int64\n",
       "concept:name_O_Cancelled                   int64\n",
       "concept:name_O_Create Offer                int64\n",
       "concept:name_O_Created                     int64\n",
       "concept:name_O_Refused                     int64\n",
       "concept:name_O_Returned                    int64\n",
       "concept:name_O_Sent (mail and online)      int64\n",
       "concept:name_O_Sent (online only)          int64\n",
       "concept:name_W_Assess potential fraud      int64\n",
       "concept:name_W_Call after offers           int64\n",
       "concept:name_W_Call incomplete files       int64\n",
       "concept:name_W_Complete application        int64\n",
       "concept:name_W_Handle leads                int64\n",
       "concept:name_W_Validate application        int64\n",
       "case:LoanGoal_Boat                         int64\n",
       "case:LoanGoal_Business goal                int64\n",
       "case:LoanGoal_Car                          int64\n",
       "case:LoanGoal_Caravan / Camper             int64\n",
       "case:LoanGoal_Debt restructuring           int64\n",
       "case:LoanGoal_Existing loan takeover       int64\n",
       "case:LoanGoal_Extra spending limit         int64\n",
       "case:LoanGoal_Home improvement             int64\n",
       "case:LoanGoal_Motorcycle                   int64\n",
       "case:LoanGoal_Not speficied                int64\n",
       "case:LoanGoal_Other, see explanation       int64\n",
       "case:LoanGoal_Remaining debt home          int64\n",
       "case:LoanGoal_Tax payments                 int64\n",
       "case:LoanGoal_Unknown                      int64\n",
       "dtype: object"
      ]
     },
     "execution_count": 53,
     "metadata": {},
     "output_type": "execute_result"
    }
   ],
   "source": [
    "X_test.dtypes"
   ]
  },
  {
   "cell_type": "markdown",
   "id": "bb4048e8-7f87-4ba7-95e1-20ab250286c7",
   "metadata": {},
   "source": [
    "### Building the model"
   ]
  },
  {
   "cell_type": "code",
   "execution_count": 66,
   "id": "fac52f74-e881-4831-8450-0ec8e7b0bf46",
   "metadata": {},
   "outputs": [],
   "source": [
    "# Create a CatBoost regressor\n",
    "model = CatBoostRegressor(iterations=500, depth=6, learning_rate=0.01, loss_function='RMSE')"
   ]
  },
  {
   "cell_type": "code",
   "execution_count": null,
   "id": "a4d05275-7e4f-4677-a3d8-9325a6bdc6bb",
   "metadata": {},
   "outputs": [
    {
     "name": "stdout",
     "output_type": "stream",
     "text": [
      "0:\tlearn: 13.4748256\ttest: 11.9209967\tbest: 11.9209967 (0)\ttotal: 228ms\tremaining: 1m 53s\n",
      "10:\tlearn: 13.0548479\ttest: 11.4877568\tbest: 11.4877568 (10)\ttotal: 1.67s\tremaining: 1m 14s\n",
      "20:\tlearn: 12.6988025\ttest: 11.1234571\tbest: 11.1234571 (20)\ttotal: 2.79s\tremaining: 1m 3s\n",
      "30:\tlearn: 12.3995193\ttest: 10.8166233\tbest: 10.8166233 (30)\ttotal: 4.19s\tremaining: 1m 3s\n",
      "40:\tlearn: 12.1495642\ttest: 10.5602097\tbest: 10.5602097 (40)\ttotal: 5.8s\tremaining: 1m 4s\n"
     ]
    }
   ],
   "source": [
    "# Train the model\n",
    "model.fit(X_train, y_train, \n",
    "          cat_features=categorical_features, \n",
    "          eval_set=(X_test, y_test),\n",
    "          early_stopping_rounds=10, verbose=10)"
   ]
  },
  {
   "cell_type": "code",
   "execution_count": null,
   "id": "a3a806dd-361a-42e7-968b-dfd7be197eb5",
   "metadata": {},
   "outputs": [],
   "source": [
    "# Make predictions on the test set\n",
    "y_pred = model.predict(X_test)"
   ]
  },
  {
   "cell_type": "markdown",
   "id": "96508c42-6dd9-48b5-83c9-dbc8f3f010a6",
   "metadata": {},
   "source": [
    "### Evaluate the model"
   ]
  },
  {
   "cell_type": "code",
   "execution_count": null,
   "id": "595faf4e-7bf8-4cb2-845c-3698ea0fbf42",
   "metadata": {},
   "outputs": [],
   "source": [
    "# MSE\n",
    "mean_squared_error(y_test, y_pred)"
   ]
  },
  {
   "cell_type": "code",
   "execution_count": null,
   "id": "f8d31fcc-3f9c-4abd-892e-f9c620a0cb53",
   "metadata": {},
   "outputs": [],
   "source": [
    "# R2\n",
    "r2_score(y_test, y_pred)"
   ]
  },
  {
   "cell_type": "markdown",
   "id": "666de27b-27f8-4733-acd7-adfa3270c45a",
   "metadata": {},
   "source": [
    "### Feature importance"
   ]
  },
  {
   "cell_type": "code",
   "execution_count": null,
   "id": "478c1a02-b9ad-40e4-a5f4-4e0d8868f3dc",
   "metadata": {},
   "outputs": [],
   "source": [
    "import matplotlib.pyplot as plt\n",
    "\n",
    "# Assuming 'model' is your trained CatBoostRegressor\n",
    "feature_importance = model.get_feature_importance()\n",
    "\n",
    "# Get feature names from the original DataFrame (X_train)\n",
    "feature_names = X_train.columns\n",
    "\n",
    "# Create a DataFrame to store feature importance values with their corresponding names\n",
    "feature_importance_df = pd.DataFrame({'Feature': feature_names, 'Importance': feature_importance})\n",
    "\n",
    "# Set the threshold for visibility\n",
    "threshold = 0.01  # Adjust this threshold as needed\n",
    "\n",
    "# Filter features based on the threshold\n",
    "important_features = feature_importance_df[feature_importance_df['Importance'] >= threshold]\n",
    "\n",
    "# Sort the DataFrame by importance in descending order\n",
    "important_features = important_features.sort_values(by='Importance', ascending=False)\n",
    "\n",
    "# Plot feature importance for only the relevant features\n",
    "plt.figure(figsize=(10, 6))\n",
    "plt.barh(important_features['Feature'], important_features['Importance'])\n",
    "plt.xlabel('Feature Importance')\n",
    "plt.ylabel('Feature')\n",
    "plt.title('CatBoost Feature Importance (Above Threshold)')\n",
    "plt.show()\n"
   ]
  },
  {
   "cell_type": "code",
   "execution_count": null,
   "id": "c73311e7-4423-4cec-bc9c-3fb5b8deba48",
   "metadata": {},
   "outputs": [],
   "source": []
  }
 ],
 "metadata": {
  "kernelspec": {
   "display_name": "Python 3 (ipykernel)",
   "language": "python",
   "name": "python3"
  },
  "language_info": {
   "codemirror_mode": {
    "name": "ipython",
    "version": 3
   },
   "file_extension": ".py",
   "mimetype": "text/x-python",
   "name": "python",
   "nbconvert_exporter": "python",
   "pygments_lexer": "ipython3",
   "version": "3.11.5"
  }
 },
 "nbformat": 4,
 "nbformat_minor": 5
}
