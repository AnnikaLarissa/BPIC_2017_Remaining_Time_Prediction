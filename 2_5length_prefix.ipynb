{
 "cells": [
  {
   "cell_type": "markdown",
   "metadata": {},
   "source": [
    "# Preprocessing\n",
    "This notebook filters the data and saves training and test data in the data folder"
   ]
  },
  {
   "cell_type": "code",
   "execution_count": 5,
   "metadata": {},
   "outputs": [],
   "source": [
    "# import basic libraries\n",
    "import pandas as pd"
   ]
  },
  {
   "cell_type": "code",
   "execution_count": null,
   "metadata": {},
   "outputs": [],
   "source": [
    "X_train = pd.read_csv(\"data/generated/onehot/X_train.csv\")\n",
    "y_train = pd.read_csv(\"data/generated/onehot/y_train.csv\")\n",
    "X_test = pd.read_csv(\"data/generated/onehot/X_test.csv\")\n",
    "y_test = pd.read_csv(\"data/generated/onehot/y_test.csv\")"
   ]
  },
  {
   "cell_type": "code",
   "execution_count": 31,
   "metadata": {},
   "outputs": [],
   "source": [
    "#Save the frequency encoded dataframes\n",
    "X_train = full_train_df.drop(columns=[\"remaining_time\"])\n",
    "X_train.to_csv(\"data/generated/frequency/X_train.csv\")\n",
    "\n",
    "X_test = full_test_df.drop(columns=[\"remaining_time\"])\n",
    "X_test.to_csv(\"data/generated/frequency/X_test.csv\")\n",
    "\n",
    "y_train = full_train_df[\"remaining_time\"]\n",
    "y_train.to_csv(\"data/generated/frequency/y_train.csv\")\n",
    "\n",
    "y_test = full_test_df[\"remaining_time\"]\n",
    "y_test.to_csv(\"data/generated/frequency/y_test.csv\")"
   ]
  },
  {
   "cell_type": "code",
   "execution_count": null,
   "metadata": {},
   "outputs": [],
   "source": []
  }
 ],
 "metadata": {
  "kernelspec": {
   "display_name": "Python 3 (ipykernel)",
   "language": "python",
   "name": "python3"
  },
  "language_info": {
   "codemirror_mode": {
    "name": "ipython",
    "version": 3
   },
   "file_extension": ".py",
   "mimetype": "text/x-python",
   "name": "python",
   "nbconvert_exporter": "python",
   "pygments_lexer": "ipython3",
   "version": "3.11.5"
  }
 },
 "nbformat": 4,
 "nbformat_minor": 4
}
